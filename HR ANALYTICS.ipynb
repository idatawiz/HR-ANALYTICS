{
 "cells": [
  {
   "cell_type": "code",
   "execution_count": 69,
   "id": "fa6409b8",
   "metadata": {},
   "outputs": [],
   "source": [
    "import numpy as np\n",
    "import pandas as pd\n",
    "import warnings\n",
    "warnings.filterwarnings('ignore')"
   ]
  },
  {
   "cell_type": "code",
   "execution_count": 70,
   "id": "a3185499",
   "metadata": {},
   "outputs": [
    {
     "name": "stdout",
     "output_type": "stream",
     "text": [
      "Total values before remove duplicates (14999, 10)\n",
      "Total values after remove duplicates (14999, 10)\n"
     ]
    }
   ],
   "source": [
    "hra=pd.read_csv('file:///D:/Data%20Science%20&%20AI/Data%20Science/Projects/Pending_Projects/HR-analytics-main/HR_comma_sep.csv')\n",
    "print('Total values before remove duplicates',hra.shape)\n",
    "#hra=hra.drop_duplicates()\n",
    "print('Total values after remove duplicates',hra.shape)"
   ]
  },
  {
   "cell_type": "code",
   "execution_count": 71,
   "id": "67a867fe",
   "metadata": {},
   "outputs": [
    {
     "data": {
      "text/html": [
       "<div>\n",
       "<style scoped>\n",
       "    .dataframe tbody tr th:only-of-type {\n",
       "        vertical-align: middle;\n",
       "    }\n",
       "\n",
       "    .dataframe tbody tr th {\n",
       "        vertical-align: top;\n",
       "    }\n",
       "\n",
       "    .dataframe thead th {\n",
       "        text-align: right;\n",
       "    }\n",
       "</style>\n",
       "<table border=\"1\" class=\"dataframe\">\n",
       "  <thead>\n",
       "    <tr style=\"text-align: right;\">\n",
       "      <th></th>\n",
       "      <th>satisfaction_level</th>\n",
       "      <th>last_evaluation</th>\n",
       "      <th>number_project</th>\n",
       "      <th>average_montly_hours</th>\n",
       "      <th>time_spend_company</th>\n",
       "      <th>Work_accident</th>\n",
       "      <th>left</th>\n",
       "      <th>promotion_last_5years</th>\n",
       "      <th>Department</th>\n",
       "      <th>salary</th>\n",
       "    </tr>\n",
       "  </thead>\n",
       "  <tbody>\n",
       "    <tr>\n",
       "      <th>14989</th>\n",
       "      <td>0.43</td>\n",
       "      <td>0.57</td>\n",
       "      <td>2</td>\n",
       "      <td>159</td>\n",
       "      <td>3</td>\n",
       "      <td>1</td>\n",
       "      <td>1</td>\n",
       "      <td>0</td>\n",
       "      <td>technical</td>\n",
       "      <td>low</td>\n",
       "    </tr>\n",
       "    <tr>\n",
       "      <th>14990</th>\n",
       "      <td>0.89</td>\n",
       "      <td>0.88</td>\n",
       "      <td>5</td>\n",
       "      <td>228</td>\n",
       "      <td>5</td>\n",
       "      <td>1</td>\n",
       "      <td>1</td>\n",
       "      <td>0</td>\n",
       "      <td>support</td>\n",
       "      <td>low</td>\n",
       "    </tr>\n",
       "    <tr>\n",
       "      <th>14991</th>\n",
       "      <td>0.09</td>\n",
       "      <td>0.81</td>\n",
       "      <td>6</td>\n",
       "      <td>257</td>\n",
       "      <td>4</td>\n",
       "      <td>0</td>\n",
       "      <td>1</td>\n",
       "      <td>0</td>\n",
       "      <td>support</td>\n",
       "      <td>low</td>\n",
       "    </tr>\n",
       "    <tr>\n",
       "      <th>14992</th>\n",
       "      <td>0.40</td>\n",
       "      <td>0.48</td>\n",
       "      <td>2</td>\n",
       "      <td>155</td>\n",
       "      <td>3</td>\n",
       "      <td>0</td>\n",
       "      <td>1</td>\n",
       "      <td>0</td>\n",
       "      <td>support</td>\n",
       "      <td>low</td>\n",
       "    </tr>\n",
       "    <tr>\n",
       "      <th>14993</th>\n",
       "      <td>0.76</td>\n",
       "      <td>0.83</td>\n",
       "      <td>6</td>\n",
       "      <td>293</td>\n",
       "      <td>6</td>\n",
       "      <td>0</td>\n",
       "      <td>1</td>\n",
       "      <td>0</td>\n",
       "      <td>support</td>\n",
       "      <td>low</td>\n",
       "    </tr>\n",
       "    <tr>\n",
       "      <th>14994</th>\n",
       "      <td>0.40</td>\n",
       "      <td>0.57</td>\n",
       "      <td>2</td>\n",
       "      <td>151</td>\n",
       "      <td>3</td>\n",
       "      <td>0</td>\n",
       "      <td>1</td>\n",
       "      <td>0</td>\n",
       "      <td>support</td>\n",
       "      <td>low</td>\n",
       "    </tr>\n",
       "    <tr>\n",
       "      <th>14995</th>\n",
       "      <td>0.37</td>\n",
       "      <td>0.48</td>\n",
       "      <td>2</td>\n",
       "      <td>160</td>\n",
       "      <td>3</td>\n",
       "      <td>0</td>\n",
       "      <td>1</td>\n",
       "      <td>0</td>\n",
       "      <td>support</td>\n",
       "      <td>low</td>\n",
       "    </tr>\n",
       "    <tr>\n",
       "      <th>14996</th>\n",
       "      <td>0.37</td>\n",
       "      <td>0.53</td>\n",
       "      <td>2</td>\n",
       "      <td>143</td>\n",
       "      <td>3</td>\n",
       "      <td>0</td>\n",
       "      <td>1</td>\n",
       "      <td>0</td>\n",
       "      <td>support</td>\n",
       "      <td>low</td>\n",
       "    </tr>\n",
       "    <tr>\n",
       "      <th>14997</th>\n",
       "      <td>0.11</td>\n",
       "      <td>0.96</td>\n",
       "      <td>6</td>\n",
       "      <td>280</td>\n",
       "      <td>4</td>\n",
       "      <td>0</td>\n",
       "      <td>1</td>\n",
       "      <td>0</td>\n",
       "      <td>support</td>\n",
       "      <td>low</td>\n",
       "    </tr>\n",
       "    <tr>\n",
       "      <th>14998</th>\n",
       "      <td>0.37</td>\n",
       "      <td>0.52</td>\n",
       "      <td>2</td>\n",
       "      <td>158</td>\n",
       "      <td>3</td>\n",
       "      <td>0</td>\n",
       "      <td>1</td>\n",
       "      <td>0</td>\n",
       "      <td>support</td>\n",
       "      <td>low</td>\n",
       "    </tr>\n",
       "  </tbody>\n",
       "</table>\n",
       "</div>"
      ],
      "text/plain": [
       "       satisfaction_level  last_evaluation  number_project  \\\n",
       "14989                0.43             0.57               2   \n",
       "14990                0.89             0.88               5   \n",
       "14991                0.09             0.81               6   \n",
       "14992                0.40             0.48               2   \n",
       "14993                0.76             0.83               6   \n",
       "14994                0.40             0.57               2   \n",
       "14995                0.37             0.48               2   \n",
       "14996                0.37             0.53               2   \n",
       "14997                0.11             0.96               6   \n",
       "14998                0.37             0.52               2   \n",
       "\n",
       "       average_montly_hours  time_spend_company  Work_accident  left  \\\n",
       "14989                   159                   3              1     1   \n",
       "14990                   228                   5              1     1   \n",
       "14991                   257                   4              0     1   \n",
       "14992                   155                   3              0     1   \n",
       "14993                   293                   6              0     1   \n",
       "14994                   151                   3              0     1   \n",
       "14995                   160                   3              0     1   \n",
       "14996                   143                   3              0     1   \n",
       "14997                   280                   4              0     1   \n",
       "14998                   158                   3              0     1   \n",
       "\n",
       "       promotion_last_5years Department salary  \n",
       "14989                      0  technical    low  \n",
       "14990                      0    support    low  \n",
       "14991                      0    support    low  \n",
       "14992                      0    support    low  \n",
       "14993                      0    support    low  \n",
       "14994                      0    support    low  \n",
       "14995                      0    support    low  \n",
       "14996                      0    support    low  \n",
       "14997                      0    support    low  \n",
       "14998                      0    support    low  "
      ]
     },
     "execution_count": 71,
     "metadata": {},
     "output_type": "execute_result"
    }
   ],
   "source": [
    "hra.tail(10)"
   ]
  },
  {
   "cell_type": "markdown",
   "id": "eca6718d",
   "metadata": {},
   "source": [
    "# Define Problem"
   ]
  },
  {
   "cell_type": "raw",
   "id": "b65bacac",
   "metadata": {},
   "source": [
    "Will any new employee will stay or left the organization"
   ]
  },
  {
   "cell_type": "markdown",
   "id": "66453780",
   "metadata": {},
   "source": [
    "# Distribution Check"
   ]
  },
  {
   "cell_type": "code",
   "execution_count": 72,
   "id": "37d686d7",
   "metadata": {},
   "outputs": [
    {
     "data": {
      "text/plain": [
       "<AxesSubplot:>"
      ]
     },
     "execution_count": 72,
     "metadata": {},
     "output_type": "execute_result"
    },
    {
     "data": {
      "image/png": "[encoded data removed]",
      "text/plain": [
       "<Figure size 432x288 with 1 Axes>"
      ]
     },
     "metadata": {
      "needs_background": "light"
     },
     "output_type": "display_data"
    }
   ],
   "source": [
    "hra['left'].value_counts().plot(kind='bar')"
   ]
  },
  {
   "cell_type": "markdown",
   "id": "f96d2005",
   "metadata": {},
   "source": [
    "# Basic Analysis"
   ]
  },
  {
   "cell_type": "code",
   "execution_count": 73,
   "id": "cbf6b229",
   "metadata": {},
   "outputs": [
    {
     "name": "stdout",
     "output_type": "stream",
     "text": [
      "<class 'pandas.core.frame.DataFrame'>\n",
      "RangeIndex: 14999 entries, 0 to 14998\n",
      "Data columns (total 10 columns):\n",
      " #   Column                 Non-Null Count  Dtype  \n",
      "---  ------                 --------------  -----  \n",
      " 0   satisfaction_level     14999 non-null  float64\n",
      " 1   last_evaluation        14999 non-null  float64\n",
      " 2   number_project         14999 non-null  int64  \n",
      " 3   average_montly_hours   14999 non-null  int64  \n",
      " 4   time_spend_company     14999 non-null  int64  \n",
      " 5   Work_accident          14999 non-null  int64  \n",
      " 6   left                   14999 non-null  int64  \n",
      " 7   promotion_last_5years  14999 non-null  int64  \n",
      " 8   Department             14999 non-null  object \n",
      " 9   salary                 14999 non-null  object \n",
      "dtypes: float64(2), int64(6), object(2)\n",
      "memory usage: 1.1+ MB\n"
     ]
    }
   ],
   "source": [
    "hra.info()"
   ]
  },
  {
   "cell_type": "code",
   "execution_count": 74,
   "id": "e0ec0a5b",
   "metadata": {},
   "outputs": [
    {
     "data": {
      "text/html": [
       "<div>\n",
       "<style scoped>\n",
       "    .dataframe tbody tr th:only-of-type {\n",
       "        vertical-align: middle;\n",
       "    }\n",
       "\n",
       "    .dataframe tbody tr th {\n",
       "        vertical-align: top;\n",
       "    }\n",
       "\n",
       "    .dataframe thead th {\n",
       "        text-align: right;\n",
       "    }\n",
       "</style>\n",
       "<table border=\"1\" class=\"dataframe\">\n",
       "  <thead>\n",
       "    <tr style=\"text-align: right;\">\n",
       "      <th></th>\n",
       "      <th>satisfaction_level</th>\n",
       "      <th>last_evaluation</th>\n",
       "      <th>number_project</th>\n",
       "      <th>average_montly_hours</th>\n",
       "      <th>time_spend_company</th>\n",
       "      <th>Work_accident</th>\n",
       "      <th>left</th>\n",
       "      <th>promotion_last_5years</th>\n",
       "    </tr>\n",
       "  </thead>\n",
       "  <tbody>\n",
       "    <tr>\n",
       "      <th>count</th>\n",
       "      <td>14999.000000</td>\n",
       "      <td>14999.000000</td>\n",
       "      <td>14999.000000</td>\n",
       "      <td>14999.000000</td>\n",
       "      <td>14999.000000</td>\n",
       "      <td>14999.000000</td>\n",
       "      <td>14999.000000</td>\n",
       "      <td>14999.000000</td>\n",
       "    </tr>\n",
       "    <tr>\n",
       "      <th>mean</th>\n",
       "      <td>0.612834</td>\n",
       "      <td>0.716102</td>\n",
       "      <td>3.803054</td>\n",
       "      <td>201.050337</td>\n",
       "      <td>3.498233</td>\n",
       "      <td>0.144610</td>\n",
       "      <td>0.238083</td>\n",
       "      <td>0.021268</td>\n",
       "    </tr>\n",
       "    <tr>\n",
       "      <th>std</th>\n",
       "      <td>0.248631</td>\n",
       "      <td>0.171169</td>\n",
       "      <td>1.232592</td>\n",
       "      <td>49.943099</td>\n",
       "      <td>1.460136</td>\n",
       "      <td>0.351719</td>\n",
       "      <td>0.425924</td>\n",
       "      <td>0.144281</td>\n",
       "    </tr>\n",
       "    <tr>\n",
       "      <th>min</th>\n",
       "      <td>0.090000</td>\n",
       "      <td>0.360000</td>\n",
       "      <td>2.000000</td>\n",
       "      <td>96.000000</td>\n",
       "      <td>2.000000</td>\n",
       "      <td>0.000000</td>\n",
       "      <td>0.000000</td>\n",
       "      <td>0.000000</td>\n",
       "    </tr>\n",
       "    <tr>\n",
       "      <th>25%</th>\n",
       "      <td>0.440000</td>\n",
       "      <td>0.560000</td>\n",
       "      <td>3.000000</td>\n",
       "      <td>156.000000</td>\n",
       "      <td>3.000000</td>\n",
       "      <td>0.000000</td>\n",
       "      <td>0.000000</td>\n",
       "      <td>0.000000</td>\n",
       "    </tr>\n",
       "    <tr>\n",
       "      <th>50%</th>\n",
       "      <td>0.640000</td>\n",
       "      <td>0.720000</td>\n",
       "      <td>4.000000</td>\n",
       "      <td>200.000000</td>\n",
       "      <td>3.000000</td>\n",
       "      <td>0.000000</td>\n",
       "      <td>0.000000</td>\n",
       "      <td>0.000000</td>\n",
       "    </tr>\n",
       "    <tr>\n",
       "      <th>75%</th>\n",
       "      <td>0.820000</td>\n",
       "      <td>0.870000</td>\n",
       "      <td>5.000000</td>\n",
       "      <td>245.000000</td>\n",
       "      <td>4.000000</td>\n",
       "      <td>0.000000</td>\n",
       "      <td>0.000000</td>\n",
       "      <td>0.000000</td>\n",
       "    </tr>\n",
       "    <tr>\n",
       "      <th>max</th>\n",
       "      <td>1.000000</td>\n",
       "      <td>1.000000</td>\n",
       "      <td>7.000000</td>\n",
       "      <td>310.000000</td>\n",
       "      <td>10.000000</td>\n",
       "      <td>1.000000</td>\n",
       "      <td>1.000000</td>\n",
       "      <td>1.000000</td>\n",
       "    </tr>\n",
       "  </tbody>\n",
       "</table>\n",
       "</div>"
      ],
      "text/plain": [
       "       satisfaction_level  last_evaluation  number_project  \\\n",
       "count        14999.000000     14999.000000    14999.000000   \n",
       "mean             0.612834         0.716102        3.803054   \n",
       "std              0.248631         0.171169        1.232592   \n",
       "min              0.090000         0.360000        2.000000   \n",
       "25%              0.440000         0.560000        3.000000   \n",
       "50%              0.640000         0.720000        4.000000   \n",
       "75%              0.820000         0.870000        5.000000   \n",
       "max              1.000000         1.000000        7.000000   \n",
       "\n",
       "       average_montly_hours  time_spend_company  Work_accident          left  \\\n",
       "count          14999.000000        14999.000000   14999.000000  14999.000000   \n",
       "mean             201.050337            3.498233       0.144610      0.238083   \n",
       "std               49.943099            1.460136       0.351719      0.425924   \n",
       "min               96.000000            2.000000       0.000000      0.000000   \n",
       "25%              156.000000            3.000000       0.000000      0.000000   \n",
       "50%              200.000000            3.000000       0.000000      0.000000   \n",
       "75%              245.000000            4.000000       0.000000      0.000000   \n",
       "max              310.000000           10.000000       1.000000      1.000000   \n",
       "\n",
       "       promotion_last_5years  \n",
       "count           14999.000000  \n",
       "mean                0.021268  \n",
       "std                 0.144281  \n",
       "min                 0.000000  \n",
       "25%                 0.000000  \n",
       "50%                 0.000000  \n",
       "75%                 0.000000  \n",
       "max                 1.000000  "
      ]
     },
     "execution_count": 74,
     "metadata": {},
     "output_type": "execute_result"
    }
   ],
   "source": [
    "hra.describe()"
   ]
  },
  {
   "cell_type": "code",
   "execution_count": 75,
   "id": "296fc76e",
   "metadata": {},
   "outputs": [
    {
     "data": {
      "text/plain": [
       "satisfaction_level        92\n",
       "last_evaluation           65\n",
       "number_project             6\n",
       "average_montly_hours     215\n",
       "time_spend_company         8\n",
       "Work_accident              2\n",
       "left                       2\n",
       "promotion_last_5years      2\n",
       "Department                10\n",
       "salary                     3\n",
       "dtype: int64"
      ]
     },
     "execution_count": 75,
     "metadata": {},
     "output_type": "execute_result"
    }
   ],
   "source": [
    "hra.nunique()"
   ]
  },
  {
   "cell_type": "markdown",
   "id": "44234770",
   "metadata": {},
   "source": [
    "# Identity different types of attributes"
   ]
  },
  {
   "cell_type": "raw",
   "id": "0ebd7936",
   "metadata": {},
   "source": [
    "satisfaction_level   -> Continous\n",
    "last_evaluation      -> Continous\n",
    "number_project       -> Conitnous\n",
    "average_montly_hours -> Continous\n",
    "time_spend_company   -> Continous\n",
    "Work_accident        -> Categorical\n",
    "left                 -> Categorical\n",
    "promotion_last_5years-> Categorical\n",
    "Department           -> Categorical\n",
    "salary               -> Categorical"
   ]
  },
  {
   "cell_type": "markdown",
   "id": "4d20f082",
   "metadata": {},
   "source": [
    "# Visual Exploratory Data Analysis"
   ]
  },
  {
   "cell_type": "code",
   "execution_count": 76,
   "id": "5a90784b",
   "metadata": {},
   "outputs": [],
   "source": [
    "def plotbarcharts(inpdata,colstoplot):\n",
    "    import matplotlib.pyplot as plt\n",
    "    fig,subPlot=plt.subplots(nrows=1,ncols=len(colstoplot),figsize=(18,10))\n",
    "    fig.suptitle('Bar charts of:'+ str(colstoplot))\n",
    "    for colname,plotnumber in zip(colstoplot,range(len(colstoplot))):\n",
    "        inpdata.groupby(colname).size().plot(kind='bar',ax=subPlot[plotnumber])\n",
    "    "
   ]
  },
  {
   "cell_type": "code",
   "execution_count": 77,
   "id": "cedcffca",
   "metadata": {},
   "outputs": [
    {
     "data": {
      "image/png": "[encoded data removed]",
      "text/plain": [
       "<Figure size 1296x720 with 4 Axes>"
      ]
     },
     "metadata": {
      "needs_background": "light"
     },
     "output_type": "display_data"
    }
   ],
   "source": [
    "plotbarcharts(inpdata=hra,colstoplot=['Work_accident','promotion_last_5years','Department','salary'])"
   ]
  },
  {
   "cell_type": "code",
   "execution_count": 78,
   "id": "cae4b9ce",
   "metadata": {},
   "outputs": [
    {
     "data": {
      "text/plain": [
       "Index(['satisfaction_level', 'last_evaluation', 'number_project',\n",
       "       'average_montly_hours', 'time_spend_company', 'Work_accident', 'left',\n",
       "       'promotion_last_5years', 'Department', 'salary'],\n",
       "      dtype='object')"
      ]
     },
     "execution_count": 78,
     "metadata": {},
     "output_type": "execute_result"
    }
   ],
   "source": [
    "hra.columns"
   ]
  },
  {
   "cell_type": "code",
   "execution_count": 79,
   "id": "0087b9e7",
   "metadata": {},
   "outputs": [
    {
     "data": {
      "text/plain": [
       "array([[<AxesSubplot:title={'center':'satisfaction_level'}>,\n",
       "        <AxesSubplot:title={'center':'last_evaluation'}>],\n",
       "       [<AxesSubplot:title={'center':'number_project'}>,\n",
       "        <AxesSubplot:title={'center':'average_montly_hours'}>],\n",
       "       [<AxesSubplot:title={'center':'time_spend_company'}>,\n",
       "        <AxesSubplot:>]], dtype=object)"
      ]
     },
     "execution_count": 79,
     "metadata": {},
     "output_type": "execute_result"
    },
    {
     "data": {
      "image/png": "[encoded data removed]",
      "text/plain": [
       "<Figure size 1296x720 with 6 Axes>"
      ]
     },
     "metadata": {
      "needs_background": "light"
     },
     "output_type": "display_data"
    }
   ],
   "source": [
    "hra.hist(['satisfaction_level', 'last_evaluation', 'number_project',\n",
    "       'average_montly_hours', 'time_spend_company'],figsize=(18,10))"
   ]
  },
  {
   "cell_type": "markdown",
   "id": "c731fa45",
   "metadata": {},
   "source": [
    "# Outlier  Identification & Treatment"
   ]
  },
  {
   "cell_type": "markdown",
   "id": "53002af9",
   "metadata": {},
   "source": [
    "IQR CHECK"
   ]
  },
  {
   "cell_type": "code",
   "execution_count": 80,
   "id": "fd90160a",
   "metadata": {},
   "outputs": [
    {
     "name": "stdout",
     "output_type": "stream",
     "text": [
      "time_spend_company outliers are values < 0.0 or > 7.0\n"
     ]
    }
   ],
   "source": [
    "IQR = hra.time_spend_company.quantile(0.75) - hra.time_spend_company.quantile(0.25)\n",
    "Lower_fence = hra.time_spend_company.quantile(0.25) - (IQR * 3)\n",
    "Upper_fence = hra.time_spend_company.quantile(0.75) + (IQR * 3)\n",
    "print(f'time_spend_company outliers are values < {Lower_fence} or > {Upper_fence}')"
   ]
  },
  {
   "cell_type": "code",
   "execution_count": 81,
   "id": "925572bb",
   "metadata": {},
   "outputs": [
    {
     "data": {
      "text/plain": [
       "376"
      ]
     },
     "execution_count": 81,
     "metadata": {},
     "output_type": "execute_result"
    }
   ],
   "source": [
    "len(hra[hra[\"time_spend_company\"]>7.0])"
   ]
  },
  {
   "cell_type": "code",
   "execution_count": 82,
   "id": "313fc958",
   "metadata": {},
   "outputs": [
    {
     "data": {
      "text/plain": [
       "11630    10\n",
       "11230    10\n",
       "13742    10\n",
       "11232    10\n",
       "13741    10\n",
       "         ..\n",
       "10919     2\n",
       "10916     2\n",
       "5522      2\n",
       "5523      2\n",
       "7499      2\n",
       "Name: time_spend_company, Length: 14999, dtype: int64"
      ]
     },
     "execution_count": 82,
     "metadata": {},
     "output_type": "execute_result"
    }
   ],
   "source": [
    "hra['time_spend_company'][hra['time_spend_company']<11].sort_values(ascending=False)"
   ]
  },
  {
   "cell_type": "markdown",
   "id": "6634f90d",
   "metadata": {},
   "source": [
    "For time_spend_company minimum value is 2 and maximum is 10"
   ]
  },
  {
   "cell_type": "code",
   "execution_count": 83,
   "id": "c25a68db",
   "metadata": {},
   "outputs": [],
   "source": [
    "hra['time_spend_company'][hra['time_spend_company']>7]=7"
   ]
  },
  {
   "cell_type": "code",
   "execution_count": 84,
   "id": "7edab85f",
   "metadata": {},
   "outputs": [
    {
     "data": {
      "text/plain": [
       "<AxesSubplot:>"
      ]
     },
     "execution_count": 84,
     "metadata": {},
     "output_type": "execute_result"
    },
    {
     "data": {
      "image/png": "[encoded data removed]",
      "text/plain": [
       "<Figure size 432x288 with 1 Axes>"
      ]
     },
     "metadata": {
      "needs_background": "light"
     },
     "output_type": "display_data"
    }
   ],
   "source": [
    "hra['time_spend_company'].hist()"
   ]
  },
  {
   "cell_type": "markdown",
   "id": "cfea2470",
   "metadata": {},
   "source": [
    "# Checking Multicollinearity"
   ]
  },
  {
   "cell_type": "code",
   "execution_count": 85,
   "id": "906ab39b",
   "metadata": {},
   "outputs": [
    {
     "data": {
      "text/html": [
       "<div>\n",
       "<style scoped>\n",
       "    .dataframe tbody tr th:only-of-type {\n",
       "        vertical-align: middle;\n",
       "    }\n",
       "\n",
       "    .dataframe tbody tr th {\n",
       "        vertical-align: top;\n",
       "    }\n",
       "\n",
       "    .dataframe thead th {\n",
       "        text-align: right;\n",
       "    }\n",
       "</style>\n",
       "<table border=\"1\" class=\"dataframe\">\n",
       "  <thead>\n",
       "    <tr style=\"text-align: right;\">\n",
       "      <th></th>\n",
       "      <th>satisfaction_level</th>\n",
       "      <th>last_evaluation</th>\n",
       "      <th>number_project</th>\n",
       "      <th>average_montly_hours</th>\n",
       "      <th>time_spend_company</th>\n",
       "      <th>Work_accident</th>\n",
       "      <th>promotion_last_5years</th>\n",
       "    </tr>\n",
       "  </thead>\n",
       "  <tbody>\n",
       "    <tr>\n",
       "      <th>satisfaction_level</th>\n",
       "      <td>1.000000</td>\n",
       "      <td>0.105021</td>\n",
       "      <td>-0.142970</td>\n",
       "      <td>-0.020048</td>\n",
       "      <td>-0.123454</td>\n",
       "      <td>0.058697</td>\n",
       "      <td>0.025605</td>\n",
       "    </tr>\n",
       "    <tr>\n",
       "      <th>last_evaluation</th>\n",
       "      <td>0.105021</td>\n",
       "      <td>1.000000</td>\n",
       "      <td>0.349333</td>\n",
       "      <td>0.339742</td>\n",
       "      <td>0.148393</td>\n",
       "      <td>-0.007104</td>\n",
       "      <td>-0.008684</td>\n",
       "    </tr>\n",
       "    <tr>\n",
       "      <th>number_project</th>\n",
       "      <td>-0.142970</td>\n",
       "      <td>0.349333</td>\n",
       "      <td>1.000000</td>\n",
       "      <td>0.417211</td>\n",
       "      <td>0.229614</td>\n",
       "      <td>-0.004741</td>\n",
       "      <td>-0.006064</td>\n",
       "    </tr>\n",
       "    <tr>\n",
       "      <th>average_montly_hours</th>\n",
       "      <td>-0.020048</td>\n",
       "      <td>0.339742</td>\n",
       "      <td>0.417211</td>\n",
       "      <td>1.000000</td>\n",
       "      <td>0.149276</td>\n",
       "      <td>-0.010143</td>\n",
       "      <td>-0.003544</td>\n",
       "    </tr>\n",
       "    <tr>\n",
       "      <th>time_spend_company</th>\n",
       "      <td>-0.123454</td>\n",
       "      <td>0.148393</td>\n",
       "      <td>0.229614</td>\n",
       "      <td>0.149276</td>\n",
       "      <td>1.000000</td>\n",
       "      <td>-0.009161</td>\n",
       "      <td>0.062615</td>\n",
       "    </tr>\n",
       "    <tr>\n",
       "      <th>Work_accident</th>\n",
       "      <td>0.058697</td>\n",
       "      <td>-0.007104</td>\n",
       "      <td>-0.004741</td>\n",
       "      <td>-0.010143</td>\n",
       "      <td>-0.009161</td>\n",
       "      <td>1.000000</td>\n",
       "      <td>0.039245</td>\n",
       "    </tr>\n",
       "    <tr>\n",
       "      <th>promotion_last_5years</th>\n",
       "      <td>0.025605</td>\n",
       "      <td>-0.008684</td>\n",
       "      <td>-0.006064</td>\n",
       "      <td>-0.003544</td>\n",
       "      <td>0.062615</td>\n",
       "      <td>0.039245</td>\n",
       "      <td>1.000000</td>\n",
       "    </tr>\n",
       "  </tbody>\n",
       "</table>\n",
       "</div>"
      ],
      "text/plain": [
       "                       satisfaction_level  last_evaluation  number_project  \\\n",
       "satisfaction_level               1.000000         0.105021       -0.142970   \n",
       "last_evaluation                  0.105021         1.000000        0.349333   \n",
       "number_project                  -0.142970         0.349333        1.000000   \n",
       "average_montly_hours            -0.020048         0.339742        0.417211   \n",
       "time_spend_company              -0.123454         0.148393        0.229614   \n",
       "Work_accident                    0.058697        -0.007104       -0.004741   \n",
       "promotion_last_5years            0.025605        -0.008684       -0.006064   \n",
       "\n",
       "                       average_montly_hours  time_spend_company  \\\n",
       "satisfaction_level                -0.020048           -0.123454   \n",
       "last_evaluation                    0.339742            0.148393   \n",
       "number_project                     0.417211            0.229614   \n",
       "average_montly_hours               1.000000            0.149276   \n",
       "time_spend_company                 0.149276            1.000000   \n",
       "Work_accident                     -0.010143           -0.009161   \n",
       "promotion_last_5years             -0.003544            0.062615   \n",
       "\n",
       "                       Work_accident  promotion_last_5years  \n",
       "satisfaction_level          0.058697               0.025605  \n",
       "last_evaluation            -0.007104              -0.008684  \n",
       "number_project             -0.004741              -0.006064  \n",
       "average_montly_hours       -0.010143              -0.003544  \n",
       "time_spend_company         -0.009161               0.062615  \n",
       "Work_accident               1.000000               0.039245  \n",
       "promotion_last_5years       0.039245               1.000000  "
      ]
     },
     "execution_count": 85,
     "metadata": {},
     "output_type": "execute_result"
    }
   ],
   "source": [
    "hra[['satisfaction_level', 'last_evaluation', 'number_project', 'average_montly_hours', 'time_spend_company','Work_accident',\n",
    "         'promotion_last_5years','Department','salary']].corr()"
   ]
  },
  {
   "cell_type": "code",
   "execution_count": 86,
   "id": "5c06ad88",
   "metadata": {},
   "outputs": [
    {
     "data": {
      "text/plain": [
       "array(['sales', 'accounting', 'hr', 'technical', 'support', 'management',\n",
       "       'IT', 'product_mng', 'marketing', 'RandD'], dtype=object)"
      ]
     },
     "execution_count": 86,
     "metadata": {},
     "output_type": "execute_result"
    }
   ],
   "source": [
    "hra['Department'].unique()"
   ]
  },
  {
   "cell_type": "code",
   "execution_count": 87,
   "id": "1f87c533",
   "metadata": {},
   "outputs": [],
   "source": [
    "hra1 = pd.get_dummies(hra, columns = ['Department','salary'])"
   ]
  },
  {
   "cell_type": "code",
   "execution_count": 88,
   "id": "ef56810e",
   "metadata": {},
   "outputs": [
    {
     "data": {
      "text/html": [
       "<div>\n",
       "<style scoped>\n",
       "    .dataframe tbody tr th:only-of-type {\n",
       "        vertical-align: middle;\n",
       "    }\n",
       "\n",
       "    .dataframe tbody tr th {\n",
       "        vertical-align: top;\n",
       "    }\n",
       "\n",
       "    .dataframe thead th {\n",
       "        text-align: right;\n",
       "    }\n",
       "</style>\n",
       "<table border=\"1\" class=\"dataframe\">\n",
       "  <thead>\n",
       "    <tr style=\"text-align: right;\">\n",
       "      <th></th>\n",
       "      <th>satisfaction_level</th>\n",
       "      <th>last_evaluation</th>\n",
       "      <th>number_project</th>\n",
       "      <th>average_montly_hours</th>\n",
       "      <th>time_spend_company</th>\n",
       "      <th>Work_accident</th>\n",
       "      <th>left</th>\n",
       "      <th>promotion_last_5years</th>\n",
       "      <th>Department_IT</th>\n",
       "      <th>Department_RandD</th>\n",
       "      <th>...</th>\n",
       "      <th>Department_hr</th>\n",
       "      <th>Department_management</th>\n",
       "      <th>Department_marketing</th>\n",
       "      <th>Department_product_mng</th>\n",
       "      <th>Department_sales</th>\n",
       "      <th>Department_support</th>\n",
       "      <th>Department_technical</th>\n",
       "      <th>salary_high</th>\n",
       "      <th>salary_low</th>\n",
       "      <th>salary_medium</th>\n",
       "    </tr>\n",
       "  </thead>\n",
       "  <tbody>\n",
       "    <tr>\n",
       "      <th>0</th>\n",
       "      <td>0.38</td>\n",
       "      <td>0.53</td>\n",
       "      <td>2</td>\n",
       "      <td>157</td>\n",
       "      <td>3</td>\n",
       "      <td>0</td>\n",
       "      <td>1</td>\n",
       "      <td>0</td>\n",
       "      <td>0</td>\n",
       "      <td>0</td>\n",
       "      <td>...</td>\n",
       "      <td>0</td>\n",
       "      <td>0</td>\n",
       "      <td>0</td>\n",
       "      <td>0</td>\n",
       "      <td>1</td>\n",
       "      <td>0</td>\n",
       "      <td>0</td>\n",
       "      <td>0</td>\n",
       "      <td>1</td>\n",
       "      <td>0</td>\n",
       "    </tr>\n",
       "    <tr>\n",
       "      <th>1</th>\n",
       "      <td>0.80</td>\n",
       "      <td>0.86</td>\n",
       "      <td>5</td>\n",
       "      <td>262</td>\n",
       "      <td>6</td>\n",
       "      <td>0</td>\n",
       "      <td>1</td>\n",
       "      <td>0</td>\n",
       "      <td>0</td>\n",
       "      <td>0</td>\n",
       "      <td>...</td>\n",
       "      <td>0</td>\n",
       "      <td>0</td>\n",
       "      <td>0</td>\n",
       "      <td>0</td>\n",
       "      <td>1</td>\n",
       "      <td>0</td>\n",
       "      <td>0</td>\n",
       "      <td>0</td>\n",
       "      <td>0</td>\n",
       "      <td>1</td>\n",
       "    </tr>\n",
       "    <tr>\n",
       "      <th>2</th>\n",
       "      <td>0.11</td>\n",
       "      <td>0.88</td>\n",
       "      <td>7</td>\n",
       "      <td>272</td>\n",
       "      <td>4</td>\n",
       "      <td>0</td>\n",
       "      <td>1</td>\n",
       "      <td>0</td>\n",
       "      <td>0</td>\n",
       "      <td>0</td>\n",
       "      <td>...</td>\n",
       "      <td>0</td>\n",
       "      <td>0</td>\n",
       "      <td>0</td>\n",
       "      <td>0</td>\n",
       "      <td>1</td>\n",
       "      <td>0</td>\n",
       "      <td>0</td>\n",
       "      <td>0</td>\n",
       "      <td>0</td>\n",
       "      <td>1</td>\n",
       "    </tr>\n",
       "    <tr>\n",
       "      <th>3</th>\n",
       "      <td>0.72</td>\n",
       "      <td>0.87</td>\n",
       "      <td>5</td>\n",
       "      <td>223</td>\n",
       "      <td>5</td>\n",
       "      <td>0</td>\n",
       "      <td>1</td>\n",
       "      <td>0</td>\n",
       "      <td>0</td>\n",
       "      <td>0</td>\n",
       "      <td>...</td>\n",
       "      <td>0</td>\n",
       "      <td>0</td>\n",
       "      <td>0</td>\n",
       "      <td>0</td>\n",
       "      <td>1</td>\n",
       "      <td>0</td>\n",
       "      <td>0</td>\n",
       "      <td>0</td>\n",
       "      <td>1</td>\n",
       "      <td>0</td>\n",
       "    </tr>\n",
       "    <tr>\n",
       "      <th>4</th>\n",
       "      <td>0.37</td>\n",
       "      <td>0.52</td>\n",
       "      <td>2</td>\n",
       "      <td>159</td>\n",
       "      <td>3</td>\n",
       "      <td>0</td>\n",
       "      <td>1</td>\n",
       "      <td>0</td>\n",
       "      <td>0</td>\n",
       "      <td>0</td>\n",
       "      <td>...</td>\n",
       "      <td>0</td>\n",
       "      <td>0</td>\n",
       "      <td>0</td>\n",
       "      <td>0</td>\n",
       "      <td>1</td>\n",
       "      <td>0</td>\n",
       "      <td>0</td>\n",
       "      <td>0</td>\n",
       "      <td>1</td>\n",
       "      <td>0</td>\n",
       "    </tr>\n",
       "  </tbody>\n",
       "</table>\n",
       "<p>5 rows × 21 columns</p>\n",
       "</div>"
      ],
      "text/plain": [
       "   satisfaction_level  last_evaluation  number_project  average_montly_hours  \\\n",
       "0                0.38             0.53               2                   157   \n",
       "1                0.80             0.86               5                   262   \n",
       "2                0.11             0.88               7                   272   \n",
       "3                0.72             0.87               5                   223   \n",
       "4                0.37             0.52               2                   159   \n",
       "\n",
       "   time_spend_company  Work_accident  left  promotion_last_5years  \\\n",
       "0                   3              0     1                      0   \n",
       "1                   6              0     1                      0   \n",
       "2                   4              0     1                      0   \n",
       "3                   5              0     1                      0   \n",
       "4                   3              0     1                      0   \n",
       "\n",
       "   Department_IT  Department_RandD  ...  Department_hr  Department_management  \\\n",
       "0              0                 0  ...              0                      0   \n",
       "1              0                 0  ...              0                      0   \n",
       "2              0                 0  ...              0                      0   \n",
       "3              0                 0  ...              0                      0   \n",
       "4              0                 0  ...              0                      0   \n",
       "\n",
       "   Department_marketing  Department_product_mng  Department_sales  \\\n",
       "0                     0                       0                 1   \n",
       "1                     0                       0                 1   \n",
       "2                     0                       0                 1   \n",
       "3                     0                       0                 1   \n",
       "4                     0                       0                 1   \n",
       "\n",
       "   Department_support  Department_technical  salary_high  salary_low  \\\n",
       "0                   0                     0            0           1   \n",
       "1                   0                     0            0           0   \n",
       "2                   0                     0            0           0   \n",
       "3                   0                     0            0           1   \n",
       "4                   0                     0            0           1   \n",
       "\n",
       "   salary_medium  \n",
       "0              0  \n",
       "1              1  \n",
       "2              1  \n",
       "3              0  \n",
       "4              0  \n",
       "\n",
       "[5 rows x 21 columns]"
      ]
     },
     "execution_count": 88,
     "metadata": {},
     "output_type": "execute_result"
    }
   ],
   "source": [
    "hra1.head()"
   ]
  },
  {
   "cell_type": "code",
   "execution_count": 89,
   "id": "21662e62",
   "metadata": {},
   "outputs": [
    {
     "data": {
      "text/plain": [
       "Index(['satisfaction_level', 'last_evaluation', 'number_project',\n",
       "       'average_montly_hours', 'time_spend_company', 'Work_accident', 'left',\n",
       "       'promotion_last_5years', 'Department_IT', 'Department_RandD',\n",
       "       'Department_accounting', 'Department_hr', 'Department_management',\n",
       "       'Department_marketing', 'Department_product_mng', 'Department_sales',\n",
       "       'Department_support', 'Department_technical', 'salary_high',\n",
       "       'salary_low', 'salary_medium'],\n",
       "      dtype='object')"
      ]
     },
     "execution_count": 89,
     "metadata": {},
     "output_type": "execute_result"
    }
   ],
   "source": [
    "hra1.columns"
   ]
  },
  {
   "cell_type": "markdown",
   "id": "7e84b313",
   "metadata": {},
   "source": [
    "# Model Summary"
   ]
  },
  {
   "cell_type": "code",
   "execution_count": 90,
   "id": "19d9ac0f",
   "metadata": {},
   "outputs": [],
   "source": [
    "X=hra1[['satisfaction_level', 'last_evaluation', 'number_project',\n",
    "       'average_montly_hours', 'time_spend_company', 'Work_accident',\n",
    "       'promotion_last_5years', 'Department_IT', 'Department_RandD',\n",
    "       'Department_accounting', 'Department_hr', 'Department_management',\n",
    "       'Department_marketing', 'Department_product_mng', 'Department_sales',\n",
    "       'Department_support', 'Department_technical', 'salary_high',\n",
    "       'salary_low', 'salary_medium']]\n",
    "Y=hra1['left']"
   ]
  },
  {
   "cell_type": "code",
   "execution_count": 91,
   "id": "d017e7f0",
   "metadata": {},
   "outputs": [],
   "source": [
    "import statsmodels.api as sm\n",
    "X=sm.add_constant(X)\n",
    "model=sm.OLS(Y,X).fit()"
   ]
  },
  {
   "cell_type": "code",
   "execution_count": 92,
   "id": "d66825e4",
   "metadata": {},
   "outputs": [],
   "source": [
    "X=sm.add_constant(X)"
   ]
  },
  {
   "cell_type": "code",
   "execution_count": 93,
   "id": "782403c5",
   "metadata": {},
   "outputs": [
    {
     "data": {
      "text/html": [
       "<table class=\"simpletable\">\n",
       "<caption>OLS Regression Results</caption>\n",
       "<tr>\n",
       "  <th>Dep. Variable:</th>          <td>left</td>       <th>  R-squared:         </th> <td>   0.225</td> \n",
       "</tr>\n",
       "<tr>\n",
       "  <th>Model:</th>                   <td>OLS</td>       <th>  Adj. R-squared:    </th> <td>   0.224</td> \n",
       "</tr>\n",
       "<tr>\n",
       "  <th>Method:</th>             <td>Least Squares</td>  <th>  F-statistic:       </th> <td>   241.5</td> \n",
       "</tr>\n",
       "<tr>\n",
       "  <th>Date:</th>             <td>Wed, 09 Nov 2022</td> <th>  Prob (F-statistic):</th>  <td>  0.00</td>  \n",
       "</tr>\n",
       "<tr>\n",
       "  <th>Time:</th>                 <td>11:28:28</td>     <th>  Log-Likelihood:    </th> <td> -6569.8</td> \n",
       "</tr>\n",
       "<tr>\n",
       "  <th>No. Observations:</th>      <td> 14999</td>      <th>  AIC:               </th> <td>1.318e+04</td>\n",
       "</tr>\n",
       "<tr>\n",
       "  <th>Df Residuals:</th>          <td> 14980</td>      <th>  BIC:               </th> <td>1.332e+04</td>\n",
       "</tr>\n",
       "<tr>\n",
       "  <th>Df Model:</th>              <td>    18</td>      <th>                     </th>     <td> </td>    \n",
       "</tr>\n",
       "<tr>\n",
       "  <th>Covariance Type:</th>      <td>nonrobust</td>    <th>                     </th>     <td> </td>    \n",
       "</tr>\n",
       "</table>\n",
       "<table class=\"simpletable\">\n",
       "<tr>\n",
       "             <td></td>               <th>coef</th>     <th>std err</th>      <th>t</th>      <th>P>|t|</th>  <th>[0.025</th>    <th>0.975]</th>  \n",
       "</tr>\n",
       "<tr>\n",
       "  <th>const</th>                  <td>    0.2635</td> <td>    0.013</td> <td>   19.987</td> <td> 0.000</td> <td>    0.238</td> <td>    0.289</td>\n",
       "</tr>\n",
       "<tr>\n",
       "  <th>satisfaction_level</th>     <td>   -0.6331</td> <td>    0.013</td> <td>  -49.610</td> <td> 0.000</td> <td>   -0.658</td> <td>   -0.608</td>\n",
       "</tr>\n",
       "<tr>\n",
       "  <th>last_evaluation</th>        <td>    0.0771</td> <td>    0.020</td> <td>    3.862</td> <td> 0.000</td> <td>    0.038</td> <td>    0.116</td>\n",
       "</tr>\n",
       "<tr>\n",
       "  <th>number_project</th>         <td>   -0.0372</td> <td>    0.003</td> <td>  -12.804</td> <td> 0.000</td> <td>   -0.043</td> <td>   -0.031</td>\n",
       "</tr>\n",
       "<tr>\n",
       "  <th>average_montly_hours</th>   <td>    0.0006</td> <td> 6.94e-05</td> <td>    8.887</td> <td> 0.000</td> <td>    0.000</td> <td>    0.001</td>\n",
       "</tr>\n",
       "<tr>\n",
       "  <th>time_spend_company</th>     <td>    0.0542</td> <td>    0.003</td> <td>   21.500</td> <td> 0.000</td> <td>    0.049</td> <td>    0.059</td>\n",
       "</tr>\n",
       "<tr>\n",
       "  <th>Work_accident</th>          <td>   -0.1538</td> <td>    0.009</td> <td>  -17.604</td> <td> 0.000</td> <td>   -0.171</td> <td>   -0.137</td>\n",
       "</tr>\n",
       "<tr>\n",
       "  <th>promotion_last_5years</th>  <td>   -0.1182</td> <td>    0.022</td> <td>   -5.470</td> <td> 0.000</td> <td>   -0.161</td> <td>   -0.076</td>\n",
       "</tr>\n",
       "<tr>\n",
       "  <th>Department_IT</th>          <td>    0.0157</td> <td>    0.010</td> <td>    1.512</td> <td> 0.130</td> <td>   -0.005</td> <td>    0.036</td>\n",
       "</tr>\n",
       "<tr>\n",
       "  <th>Department_RandD</th>       <td>   -0.0340</td> <td>    0.013</td> <td>   -2.695</td> <td> 0.007</td> <td>   -0.059</td> <td>   -0.009</td>\n",
       "</tr>\n",
       "<tr>\n",
       "  <th>Department_accounting</th>  <td>    0.0412</td> <td>    0.013</td> <td>    3.228</td> <td> 0.001</td> <td>    0.016</td> <td>    0.066</td>\n",
       "</tr>\n",
       "<tr>\n",
       "  <th>Department_hr</th>          <td>    0.0753</td> <td>    0.013</td> <td>    5.807</td> <td> 0.000</td> <td>    0.050</td> <td>    0.101</td>\n",
       "</tr>\n",
       "<tr>\n",
       "  <th>Department_management</th>  <td>   -0.0205</td> <td>    0.014</td> <td>   -1.419</td> <td> 0.156</td> <td>   -0.049</td> <td>    0.008</td>\n",
       "</tr>\n",
       "<tr>\n",
       "  <th>Department_marketing</th>   <td>    0.0376</td> <td>    0.012</td> <td>    3.098</td> <td> 0.002</td> <td>    0.014</td> <td>    0.061</td>\n",
       "</tr>\n",
       "<tr>\n",
       "  <th>Department_product_mng</th> <td>    0.0165</td> <td>    0.012</td> <td>    1.386</td> <td> 0.166</td> <td>   -0.007</td> <td>    0.040</td>\n",
       "</tr>\n",
       "<tr>\n",
       "  <th>Department_sales</th>       <td>    0.0351</td> <td>    0.006</td> <td>    5.452</td> <td> 0.000</td> <td>    0.022</td> <td>    0.048</td>\n",
       "</tr>\n",
       "<tr>\n",
       "  <th>Department_support</th>     <td>    0.0480</td> <td>    0.008</td> <td>    5.939</td> <td> 0.000</td> <td>    0.032</td> <td>    0.064</td>\n",
       "</tr>\n",
       "<tr>\n",
       "  <th>Department_technical</th>   <td>    0.0487</td> <td>    0.007</td> <td>    6.500</td> <td> 0.000</td> <td>    0.034</td> <td>    0.063</td>\n",
       "</tr>\n",
       "<tr>\n",
       "  <th>salary_high</th>            <td>   -0.0168</td> <td>    0.009</td> <td>   -1.810</td> <td> 0.070</td> <td>   -0.035</td> <td>    0.001</td>\n",
       "</tr>\n",
       "<tr>\n",
       "  <th>salary_low</th>             <td>    0.1796</td> <td>    0.006</td> <td>   28.999</td> <td> 0.000</td> <td>    0.167</td> <td>    0.192</td>\n",
       "</tr>\n",
       "<tr>\n",
       "  <th>salary_medium</th>          <td>    0.1008</td> <td>    0.006</td> <td>   15.807</td> <td> 0.000</td> <td>    0.088</td> <td>    0.113</td>\n",
       "</tr>\n",
       "</table>\n",
       "<table class=\"simpletable\">\n",
       "<tr>\n",
       "  <th>Omnibus:</th>       <td>1207.799</td> <th>  Durbin-Watson:     </th> <td>   0.411</td> \n",
       "</tr>\n",
       "<tr>\n",
       "  <th>Prob(Omnibus):</th>  <td> 0.000</td>  <th>  Jarque-Bera (JB):  </th> <td>1362.243</td> \n",
       "</tr>\n",
       "<tr>\n",
       "  <th>Skew:</th>           <td> 0.707</td>  <th>  Prob(JB):          </th> <td>1.56e-296</td>\n",
       "</tr>\n",
       "<tr>\n",
       "  <th>Kurtosis:</th>       <td> 2.577</td>  <th>  Cond. No.          </th> <td>2.96e+18</td> \n",
       "</tr>\n",
       "</table><br/><br/>Notes:<br/>[1] Standard Errors assume that the covariance matrix of the errors is correctly specified.<br/>[2] The smallest eigenvalue is 7.34e-29. This might indicate that there are<br/>strong multicollinearity problems or that the design matrix is singular."
      ],
      "text/plain": [
       "<class 'statsmodels.iolib.summary.Summary'>\n",
       "\"\"\"\n",
       "                            OLS Regression Results                            \n",
       "==============================================================================\n",
       "Dep. Variable:                   left   R-squared:                       0.225\n",
       "Model:                            OLS   Adj. R-squared:                  0.224\n",
       "Method:                 Least Squares   F-statistic:                     241.5\n",
       "Date:                Wed, 09 Nov 2022   Prob (F-statistic):               0.00\n",
       "Time:                        11:28:28   Log-Likelihood:                -6569.8\n",
       "No. Observations:               14999   AIC:                         1.318e+04\n",
       "Df Residuals:                   14980   BIC:                         1.332e+04\n",
       "Df Model:                          18                                         \n",
       "Covariance Type:            nonrobust                                         \n",
       "==========================================================================================\n",
       "                             coef    std err          t      P>|t|      [0.025      0.975]\n",
       "------------------------------------------------------------------------------------------\n",
       "const                      0.2635      0.013     19.987      0.000       0.238       0.289\n",
       "satisfaction_level        -0.6331      0.013    -49.610      0.000      -0.658      -0.608\n",
       "last_evaluation            0.0771      0.020      3.862      0.000       0.038       0.116\n",
       "number_project            -0.0372      0.003    -12.804      0.000      -0.043      -0.031\n",
       "average_montly_hours       0.0006   6.94e-05      8.887      0.000       0.000       0.001\n",
       "time_spend_company         0.0542      0.003     21.500      0.000       0.049       0.059\n",
       "Work_accident             -0.1538      0.009    -17.604      0.000      -0.171      -0.137\n",
       "promotion_last_5years     -0.1182      0.022     -5.470      0.000      -0.161      -0.076\n",
       "Department_IT              0.0157      0.010      1.512      0.130      -0.005       0.036\n",
       "Department_RandD          -0.0340      0.013     -2.695      0.007      -0.059      -0.009\n",
       "Department_accounting      0.0412      0.013      3.228      0.001       0.016       0.066\n",
       "Department_hr              0.0753      0.013      5.807      0.000       0.050       0.101\n",
       "Department_management     -0.0205      0.014     -1.419      0.156      -0.049       0.008\n",
       "Department_marketing       0.0376      0.012      3.098      0.002       0.014       0.061\n",
       "Department_product_mng     0.0165      0.012      1.386      0.166      -0.007       0.040\n",
       "Department_sales           0.0351      0.006      5.452      0.000       0.022       0.048\n",
       "Department_support         0.0480      0.008      5.939      0.000       0.032       0.064\n",
       "Department_technical       0.0487      0.007      6.500      0.000       0.034       0.063\n",
       "salary_high               -0.0168      0.009     -1.810      0.070      -0.035       0.001\n",
       "salary_low                 0.1796      0.006     28.999      0.000       0.167       0.192\n",
       "salary_medium              0.1008      0.006     15.807      0.000       0.088       0.113\n",
       "==============================================================================\n",
       "Omnibus:                     1207.799   Durbin-Watson:                   0.411\n",
       "Prob(Omnibus):                  0.000   Jarque-Bera (JB):             1362.243\n",
       "Skew:                           0.707   Prob(JB):                    1.56e-296\n",
       "Kurtosis:                       2.577   Cond. No.                     2.96e+18\n",
       "==============================================================================\n",
       "\n",
       "Notes:\n",
       "[1] Standard Errors assume that the covariance matrix of the errors is correctly specified.\n",
       "[2] The smallest eigenvalue is 7.34e-29. This might indicate that there are\n",
       "strong multicollinearity problems or that the design matrix is singular.\n",
       "\"\"\""
      ]
     },
     "execution_count": 93,
     "metadata": {},
     "output_type": "execute_result"
    }
   ],
   "source": [
    "model.summary()"
   ]
  },
  {
   "cell_type": "code",
   "execution_count": 94,
   "id": "ada9538d",
   "metadata": {},
   "outputs": [],
   "source": [
    "from statsmodels.stats.outliers_influence import variance_inflation_factor"
   ]
  },
  {
   "cell_type": "code",
   "execution_count": 95,
   "id": "53ccc830",
   "metadata": {},
   "outputs": [],
   "source": [
    "vif_data = pd.DataFrame()\n",
    "vif_data[\"feature\"] = X.columns"
   ]
  },
  {
   "cell_type": "code",
   "execution_count": 96,
   "id": "25d006db",
   "metadata": {},
   "outputs": [],
   "source": [
    "vif_data[\"VIF\"] = [variance_inflation_factor(X.values, i)\n",
    "                          for i in range(len(X.columns))]"
   ]
  },
  {
   "cell_type": "code",
   "execution_count": 97,
   "id": "584c587c",
   "metadata": {},
   "outputs": [
    {
     "name": "stdout",
     "output_type": "stream",
     "text": [
      "                   feature       VIF\n",
      "0                    const  0.000000\n",
      "1       satisfaction_level  1.072390\n",
      "2          last_evaluation  1.244055\n",
      "3           number_project  1.363617\n",
      "4     average_montly_hours  1.280144\n",
      "5       time_spend_company  1.091790\n",
      "6            Work_accident  1.006177\n",
      "7    promotion_last_5years  1.035369\n",
      "8            Department_IT       inf\n",
      "9         Department_RandD       inf\n",
      "10   Department_accounting       inf\n",
      "11           Department_hr       inf\n",
      "12   Department_management       inf\n",
      "13    Department_marketing       inf\n",
      "14  Department_product_mng       inf\n",
      "15        Department_sales       inf\n",
      "16      Department_support       inf\n",
      "17    Department_technical       inf\n",
      "18             salary_high       inf\n",
      "19              salary_low       inf\n",
      "20           salary_medium       inf\n"
     ]
    }
   ],
   "source": [
    "print(vif_data)"
   ]
  },
  {
   "cell_type": "markdown",
   "id": "beff8386",
   "metadata": {},
   "source": [
    "There is no multi collineairty present in this dataset"
   ]
  },
  {
   "cell_type": "markdown",
   "id": "b683d001",
   "metadata": {},
   "source": [
    "# Missing Values"
   ]
  },
  {
   "cell_type": "code",
   "execution_count": 98,
   "id": "5b1a04d6",
   "metadata": {},
   "outputs": [
    {
     "data": {
      "text/plain": [
       "satisfaction_level       0\n",
       "last_evaluation          0\n",
       "number_project           0\n",
       "average_montly_hours     0\n",
       "time_spend_company       0\n",
       "Work_accident            0\n",
       "left                     0\n",
       "promotion_last_5years    0\n",
       "Department               0\n",
       "salary                   0\n",
       "dtype: int64"
      ]
     },
     "execution_count": 98,
     "metadata": {},
     "output_type": "execute_result"
    }
   ],
   "source": [
    "hra.isnull().sum()"
   ]
  },
  {
   "cell_type": "markdown",
   "id": "7c89dc70",
   "metadata": {},
   "source": [
    "No missing values found"
   ]
  },
  {
   "cell_type": "markdown",
   "id": "24ce9817",
   "metadata": {},
   "source": [
    "# Feature Selection"
   ]
  },
  {
   "cell_type": "code",
   "execution_count": 99,
   "id": "a38804e8",
   "metadata": {},
   "outputs": [
    {
     "data": {
      "text/plain": [
       "Index(['satisfaction_level', 'last_evaluation', 'number_project',\n",
       "       'average_montly_hours', 'time_spend_company', 'Work_accident', 'left',\n",
       "       'promotion_last_5years', 'Department', 'salary'],\n",
       "      dtype='object')"
      ]
     },
     "execution_count": 99,
     "metadata": {},
     "output_type": "execute_result"
    }
   ],
   "source": [
    "hra.columns"
   ]
  },
  {
   "cell_type": "code",
   "execution_count": 100,
   "id": "d204c9bc",
   "metadata": {},
   "outputs": [],
   "source": [
    "Continouscolist=['satisfaction_level', 'last_evaluation', 'number_project',\n",
    "       'average_montly_hours', 'time_spend_company']"
   ]
  },
  {
   "cell_type": "code",
   "execution_count": 101,
   "id": "0ba10582",
   "metadata": {},
   "outputs": [
    {
     "data": {
      "image/png": "[encoded data removed]",
      "text/plain": [
       "<Figure size 1296x360 with 5 Axes>"
      ]
     },
     "metadata": {
      "needs_background": "light"
     },
     "output_type": "display_data"
    }
   ],
   "source": [
    "import matplotlib.pyplot as plt\n",
    "fig,plotcanvas=plt.subplots(nrows=1,ncols=len(Continouscolist),figsize=(18,5))\n",
    "\n",
    "for h,i in zip(Continouscolist,range(len(Continouscolist))):\n",
    "    hra.boxplot(column=h,by='left',figsize=(5,5),vert=True,ax=plotcanvas[i])\n"
   ]
  },
  {
   "cell_type": "markdown",
   "id": "ac4579f2",
   "metadata": {},
   "source": [
    "# Statistical Feature Selection (Categorical Vs Continuous) using ANOVA test"
   ]
  },
  {
   "cell_type": "code",
   "execution_count": 102,
   "id": "d22a47bb",
   "metadata": {},
   "outputs": [],
   "source": [
    "def funtionanova(inpdata,targetV,contcollist):\n",
    "    from scipy.stats import f_oneway\n",
    "    \n",
    "    selectpredictorlist=[]\n",
    "    \n",
    "    for predictor in contcollist:\n",
    "        categorygroupby=inpdata.groupby(targetV)[predictor].apply(list)\n",
    "        annova_results=f_oneway(*categorygroupby)\n",
    "        \n",
    "        if(annova_results[1]<0.05):\n",
    "            print(predictor, 'is correlated with', targetV, '| P-Value:', annova_results[1])\n",
    "            selectpredictorlist.append(predictor)\n",
    "        else:\n",
    "            print(predictor, 'is NOT correlated with', targetV, '| P-Value:', annova_results[1])\n",
    "    \n",
    "    return(selectpredictorlist)"
   ]
  },
  {
   "cell_type": "code",
   "execution_count": 103,
   "id": "08751f96",
   "metadata": {},
   "outputs": [
    {
     "name": "stdout",
     "output_type": "stream",
     "text": [
      "satisfaction_level is correlated with left | P-Value: 0.0\n",
      "last_evaluation is NOT correlated with left | P-Value: 0.4212701963753548\n",
      "number_project is correlated with left | P-Value: 0.0035752138709336566\n",
      "average_montly_hours is correlated with left | P-Value: 2.3113035567460063e-18\n",
      "time_spend_company is correlated with left | P-Value: 6.164247414582264e-122\n"
     ]
    },
    {
     "data": {
      "text/plain": [
       "['satisfaction_level',\n",
       " 'number_project',\n",
       " 'average_montly_hours',\n",
       " 'time_spend_company']"
      ]
     },
     "execution_count": 103,
     "metadata": {},
     "output_type": "execute_result"
    }
   ],
   "source": [
    "cont=['satisfaction_level', 'last_evaluation', 'number_project',\n",
    "       'average_montly_hours', 'time_spend_company']\n",
    "funtionanova(inpdata=hra,targetV='left', contcollist=cont)"
   ]
  },
  {
   "cell_type": "markdown",
   "id": "db62e7dd",
   "metadata": {},
   "source": [
    "Final Selected Columns"
   ]
  },
  {
   "cell_type": "raw",
   "id": "f82bc6b7",
   "metadata": {},
   "source": [
    "'satisfaction_level',\n",
    "'number_project',\n",
    "'average_montly_hours',\n",
    "'time_spend_company'"
   ]
  },
  {
   "cell_type": "code",
   "execution_count": 104,
   "id": "82e2b848",
   "metadata": {},
   "outputs": [
    {
     "data": {
      "image/png": "[encoded data removed]",
      "text/plain": [
       "<Figure size 720x2160 with 4 Axes>"
      ]
     },
     "metadata": {
      "needs_background": "light"
     },
     "output_type": "display_data"
    }
   ],
   "source": [
    "CategoricalColsList=['Work_accident','promotion_last_5years','Department','salary']\n",
    "\n",
    "import matplotlib.pyplot as plt\n",
    "fig, PlotCanvas=plt.subplots(nrows=len(CategoricalColsList), ncols=1, figsize=(10,30))\n",
    "\n",
    "for CategoricalCol , i in zip(CategoricalColsList, range(len(CategoricalColsList))):\n",
    "    CrossTabResult=pd.crosstab(index=hra[CategoricalCol], columns=hra['left'])\n",
    "    CrossTabResult.plot.bar(color=['skyblue','green'], ax=PlotCanvas[i], title=CategoricalCol+' Vs '+'left')"
   ]
  },
  {
   "cell_type": "markdown",
   "id": "47872f44",
   "metadata": {},
   "source": [
    "# Statistical Feature Selection (Categorical Vs Categorical) using Chi-Square Test"
   ]
  },
  {
   "cell_type": "code",
   "execution_count": 105,
   "id": "d1859da3",
   "metadata": {},
   "outputs": [],
   "source": [
    "def FunctionChisq(inpData, TargetVariable, CategoricalVariablesList):\n",
    "    from scipy.stats import chi2_contingency\n",
    "    \n",
    "   \n",
    "    SelectedPredictors=[]\n",
    "\n",
    "    for predictor in CategoricalVariablesList:\n",
    "        CrossTabResult=pd.crosstab(index=inpData[TargetVariable], columns=inpData[predictor])\n",
    "        ChiSqResult = chi2_contingency(CrossTabResult)\n",
    "        \n",
    "        if (ChiSqResult[1] < 0.05):\n",
    "            print(predictor, 'is correlated with', TargetVariable, '| P-Value:', ChiSqResult[1])\n",
    "            SelectedPredictors.append(predictor)\n",
    "        else:\n",
    "            print(predictor, 'is NOT correlated with', TargetVariable, '| P-Value:', ChiSqResult[1])        \n",
    "            \n",
    "    return(SelectedPredictors)"
   ]
  },
  {
   "cell_type": "code",
   "execution_count": 106,
   "id": "8107de08",
   "metadata": {},
   "outputs": [
    {
     "name": "stdout",
     "output_type": "stream",
     "text": [
      "Work_accident is correlated with left | P-Value: 9.55823958002199e-80\n",
      "promotion_last_5years is correlated with left | P-Value: 6.344155457918697e-14\n",
      "Department is correlated with left | P-Value: 7.042130463822568e-15\n",
      "salary is correlated with left | P-Value: 1.652086749296005e-83\n"
     ]
    },
    {
     "data": {
      "text/plain": [
       "['Work_accident', 'promotion_last_5years', 'Department', 'salary']"
      ]
     },
     "execution_count": 106,
     "metadata": {},
     "output_type": "execute_result"
    }
   ],
   "source": [
    "CategoricalVariables=['Work_accident','promotion_last_5years','Department','salary']\n",
    "FunctionChisq(inpData=hra, \n",
    "              TargetVariable='left',\n",
    "              CategoricalVariablesList= CategoricalVariables)"
   ]
  },
  {
   "cell_type": "markdown",
   "id": "42e95e74",
   "metadata": {},
   "source": [
    "# Selecting final predictors for Machine Learning"
   ]
  },
  {
   "cell_type": "code",
   "execution_count": 107,
   "id": "81c7a714",
   "metadata": {},
   "outputs": [],
   "source": [
    "FinalCols=['Work_accident', 'promotion_last_5years', 'Department', 'salary','satisfaction_level','number_project','average_montly_hours',\n",
    "'time_spend_company','left']"
   ]
  },
  {
   "cell_type": "code",
   "execution_count": 108,
   "id": "d13c36dc",
   "metadata": {},
   "outputs": [
    {
     "data": {
      "text/html": [
       "<div>\n",
       "<style scoped>\n",
       "    .dataframe tbody tr th:only-of-type {\n",
       "        vertical-align: middle;\n",
       "    }\n",
       "\n",
       "    .dataframe tbody tr th {\n",
       "        vertical-align: top;\n",
       "    }\n",
       "\n",
       "    .dataframe thead th {\n",
       "        text-align: right;\n",
       "    }\n",
       "</style>\n",
       "<table border=\"1\" class=\"dataframe\">\n",
       "  <thead>\n",
       "    <tr style=\"text-align: right;\">\n",
       "      <th></th>\n",
       "      <th>Work_accident</th>\n",
       "      <th>promotion_last_5years</th>\n",
       "      <th>Department</th>\n",
       "      <th>salary</th>\n",
       "      <th>satisfaction_level</th>\n",
       "      <th>number_project</th>\n",
       "      <th>average_montly_hours</th>\n",
       "      <th>time_spend_company</th>\n",
       "      <th>left</th>\n",
       "    </tr>\n",
       "  </thead>\n",
       "  <tbody>\n",
       "    <tr>\n",
       "      <th>0</th>\n",
       "      <td>0</td>\n",
       "      <td>0</td>\n",
       "      <td>sales</td>\n",
       "      <td>low</td>\n",
       "      <td>0.38</td>\n",
       "      <td>2</td>\n",
       "      <td>157</td>\n",
       "      <td>3</td>\n",
       "      <td>1</td>\n",
       "    </tr>\n",
       "    <tr>\n",
       "      <th>1</th>\n",
       "      <td>0</td>\n",
       "      <td>0</td>\n",
       "      <td>sales</td>\n",
       "      <td>medium</td>\n",
       "      <td>0.80</td>\n",
       "      <td>5</td>\n",
       "      <td>262</td>\n",
       "      <td>6</td>\n",
       "      <td>1</td>\n",
       "    </tr>\n",
       "    <tr>\n",
       "      <th>2</th>\n",
       "      <td>0</td>\n",
       "      <td>0</td>\n",
       "      <td>sales</td>\n",
       "      <td>medium</td>\n",
       "      <td>0.11</td>\n",
       "      <td>7</td>\n",
       "      <td>272</td>\n",
       "      <td>4</td>\n",
       "      <td>1</td>\n",
       "    </tr>\n",
       "    <tr>\n",
       "      <th>3</th>\n",
       "      <td>0</td>\n",
       "      <td>0</td>\n",
       "      <td>sales</td>\n",
       "      <td>low</td>\n",
       "      <td>0.72</td>\n",
       "      <td>5</td>\n",
       "      <td>223</td>\n",
       "      <td>5</td>\n",
       "      <td>1</td>\n",
       "    </tr>\n",
       "    <tr>\n",
       "      <th>4</th>\n",
       "      <td>0</td>\n",
       "      <td>0</td>\n",
       "      <td>sales</td>\n",
       "      <td>low</td>\n",
       "      <td>0.37</td>\n",
       "      <td>2</td>\n",
       "      <td>159</td>\n",
       "      <td>3</td>\n",
       "      <td>1</td>\n",
       "    </tr>\n",
       "  </tbody>\n",
       "</table>\n",
       "</div>"
      ],
      "text/plain": [
       "   Work_accident  promotion_last_5years Department  salary  \\\n",
       "0              0                      0      sales     low   \n",
       "1              0                      0      sales  medium   \n",
       "2              0                      0      sales  medium   \n",
       "3              0                      0      sales     low   \n",
       "4              0                      0      sales     low   \n",
       "\n",
       "   satisfaction_level  number_project  average_montly_hours  \\\n",
       "0                0.38               2                   157   \n",
       "1                0.80               5                   262   \n",
       "2                0.11               7                   272   \n",
       "3                0.72               5                   223   \n",
       "4                0.37               2                   159   \n",
       "\n",
       "   time_spend_company  left  \n",
       "0                   3     1  \n",
       "1                   6     1  \n",
       "2                   4     1  \n",
       "3                   5     1  \n",
       "4                   3     1  "
      ]
     },
     "execution_count": 108,
     "metadata": {},
     "output_type": "execute_result"
    }
   ],
   "source": [
    "DataForMl=hra[FinalCols]\n",
    "DataForMl.head()"
   ]
  },
  {
   "cell_type": "code",
   "execution_count": 109,
   "id": "55035c95",
   "metadata": {},
   "outputs": [],
   "source": [
    "DataForMl.to_pickle('DataForMl.pkl')"
   ]
  },
  {
   "cell_type": "markdown",
   "id": "c36091a7",
   "metadata": {},
   "source": [
    "# Converting the nominal variable to numeric using get_dummies"
   ]
  },
  {
   "cell_type": "code",
   "execution_count": 110,
   "id": "47301976",
   "metadata": {},
   "outputs": [
    {
     "data": {
      "text/html": [
       "<div>\n",
       "<style scoped>\n",
       "    .dataframe tbody tr th:only-of-type {\n",
       "        vertical-align: middle;\n",
       "    }\n",
       "\n",
       "    .dataframe tbody tr th {\n",
       "        vertical-align: top;\n",
       "    }\n",
       "\n",
       "    .dataframe thead th {\n",
       "        text-align: right;\n",
       "    }\n",
       "</style>\n",
       "<table border=\"1\" class=\"dataframe\">\n",
       "  <thead>\n",
       "    <tr style=\"text-align: right;\">\n",
       "      <th></th>\n",
       "      <th>Work_accident</th>\n",
       "      <th>promotion_last_5years</th>\n",
       "      <th>satisfaction_level</th>\n",
       "      <th>number_project</th>\n",
       "      <th>average_montly_hours</th>\n",
       "      <th>time_spend_company</th>\n",
       "      <th>left</th>\n",
       "      <th>Department_IT</th>\n",
       "      <th>Department_RandD</th>\n",
       "      <th>Department_accounting</th>\n",
       "      <th>Department_hr</th>\n",
       "      <th>Department_management</th>\n",
       "      <th>Department_marketing</th>\n",
       "      <th>Department_product_mng</th>\n",
       "      <th>Department_sales</th>\n",
       "      <th>Department_support</th>\n",
       "      <th>Department_technical</th>\n",
       "      <th>salary_high</th>\n",
       "      <th>salary_low</th>\n",
       "      <th>salary_medium</th>\n",
       "    </tr>\n",
       "  </thead>\n",
       "  <tbody>\n",
       "    <tr>\n",
       "      <th>0</th>\n",
       "      <td>0</td>\n",
       "      <td>0</td>\n",
       "      <td>0.38</td>\n",
       "      <td>2</td>\n",
       "      <td>157</td>\n",
       "      <td>3</td>\n",
       "      <td>1</td>\n",
       "      <td>0</td>\n",
       "      <td>0</td>\n",
       "      <td>0</td>\n",
       "      <td>0</td>\n",
       "      <td>0</td>\n",
       "      <td>0</td>\n",
       "      <td>0</td>\n",
       "      <td>1</td>\n",
       "      <td>0</td>\n",
       "      <td>0</td>\n",
       "      <td>0</td>\n",
       "      <td>1</td>\n",
       "      <td>0</td>\n",
       "    </tr>\n",
       "    <tr>\n",
       "      <th>1</th>\n",
       "      <td>0</td>\n",
       "      <td>0</td>\n",
       "      <td>0.80</td>\n",
       "      <td>5</td>\n",
       "      <td>262</td>\n",
       "      <td>6</td>\n",
       "      <td>1</td>\n",
       "      <td>0</td>\n",
       "      <td>0</td>\n",
       "      <td>0</td>\n",
       "      <td>0</td>\n",
       "      <td>0</td>\n",
       "      <td>0</td>\n",
       "      <td>0</td>\n",
       "      <td>1</td>\n",
       "      <td>0</td>\n",
       "      <td>0</td>\n",
       "      <td>0</td>\n",
       "      <td>0</td>\n",
       "      <td>1</td>\n",
       "    </tr>\n",
       "    <tr>\n",
       "      <th>2</th>\n",
       "      <td>0</td>\n",
       "      <td>0</td>\n",
       "      <td>0.11</td>\n",
       "      <td>7</td>\n",
       "      <td>272</td>\n",
       "      <td>4</td>\n",
       "      <td>1</td>\n",
       "      <td>0</td>\n",
       "      <td>0</td>\n",
       "      <td>0</td>\n",
       "      <td>0</td>\n",
       "      <td>0</td>\n",
       "      <td>0</td>\n",
       "      <td>0</td>\n",
       "      <td>1</td>\n",
       "      <td>0</td>\n",
       "      <td>0</td>\n",
       "      <td>0</td>\n",
       "      <td>0</td>\n",
       "      <td>1</td>\n",
       "    </tr>\n",
       "    <tr>\n",
       "      <th>3</th>\n",
       "      <td>0</td>\n",
       "      <td>0</td>\n",
       "      <td>0.72</td>\n",
       "      <td>5</td>\n",
       "      <td>223</td>\n",
       "      <td>5</td>\n",
       "      <td>1</td>\n",
       "      <td>0</td>\n",
       "      <td>0</td>\n",
       "      <td>0</td>\n",
       "      <td>0</td>\n",
       "      <td>0</td>\n",
       "      <td>0</td>\n",
       "      <td>0</td>\n",
       "      <td>1</td>\n",
       "      <td>0</td>\n",
       "      <td>0</td>\n",
       "      <td>0</td>\n",
       "      <td>1</td>\n",
       "      <td>0</td>\n",
       "    </tr>\n",
       "    <tr>\n",
       "      <th>4</th>\n",
       "      <td>0</td>\n",
       "      <td>0</td>\n",
       "      <td>0.37</td>\n",
       "      <td>2</td>\n",
       "      <td>159</td>\n",
       "      <td>3</td>\n",
       "      <td>1</td>\n",
       "      <td>0</td>\n",
       "      <td>0</td>\n",
       "      <td>0</td>\n",
       "      <td>0</td>\n",
       "      <td>0</td>\n",
       "      <td>0</td>\n",
       "      <td>0</td>\n",
       "      <td>1</td>\n",
       "      <td>0</td>\n",
       "      <td>0</td>\n",
       "      <td>0</td>\n",
       "      <td>1</td>\n",
       "      <td>0</td>\n",
       "    </tr>\n",
       "    <tr>\n",
       "      <th>5</th>\n",
       "      <td>0</td>\n",
       "      <td>0</td>\n",
       "      <td>0.41</td>\n",
       "      <td>2</td>\n",
       "      <td>153</td>\n",
       "      <td>3</td>\n",
       "      <td>1</td>\n",
       "      <td>0</td>\n",
       "      <td>0</td>\n",
       "      <td>0</td>\n",
       "      <td>0</td>\n",
       "      <td>0</td>\n",
       "      <td>0</td>\n",
       "      <td>0</td>\n",
       "      <td>1</td>\n",
       "      <td>0</td>\n",
       "      <td>0</td>\n",
       "      <td>0</td>\n",
       "      <td>1</td>\n",
       "      <td>0</td>\n",
       "    </tr>\n",
       "    <tr>\n",
       "      <th>6</th>\n",
       "      <td>0</td>\n",
       "      <td>0</td>\n",
       "      <td>0.10</td>\n",
       "      <td>6</td>\n",
       "      <td>247</td>\n",
       "      <td>4</td>\n",
       "      <td>1</td>\n",
       "      <td>0</td>\n",
       "      <td>0</td>\n",
       "      <td>0</td>\n",
       "      <td>0</td>\n",
       "      <td>0</td>\n",
       "      <td>0</td>\n",
       "      <td>0</td>\n",
       "      <td>1</td>\n",
       "      <td>0</td>\n",
       "      <td>0</td>\n",
       "      <td>0</td>\n",
       "      <td>1</td>\n",
       "      <td>0</td>\n",
       "    </tr>\n",
       "    <tr>\n",
       "      <th>7</th>\n",
       "      <td>0</td>\n",
       "      <td>0</td>\n",
       "      <td>0.92</td>\n",
       "      <td>5</td>\n",
       "      <td>259</td>\n",
       "      <td>5</td>\n",
       "      <td>1</td>\n",
       "      <td>0</td>\n",
       "      <td>0</td>\n",
       "      <td>0</td>\n",
       "      <td>0</td>\n",
       "      <td>0</td>\n",
       "      <td>0</td>\n",
       "      <td>0</td>\n",
       "      <td>1</td>\n",
       "      <td>0</td>\n",
       "      <td>0</td>\n",
       "      <td>0</td>\n",
       "      <td>1</td>\n",
       "      <td>0</td>\n",
       "    </tr>\n",
       "    <tr>\n",
       "      <th>8</th>\n",
       "      <td>0</td>\n",
       "      <td>0</td>\n",
       "      <td>0.89</td>\n",
       "      <td>5</td>\n",
       "      <td>224</td>\n",
       "      <td>5</td>\n",
       "      <td>1</td>\n",
       "      <td>0</td>\n",
       "      <td>0</td>\n",
       "      <td>0</td>\n",
       "      <td>0</td>\n",
       "      <td>0</td>\n",
       "      <td>0</td>\n",
       "      <td>0</td>\n",
       "      <td>1</td>\n",
       "      <td>0</td>\n",
       "      <td>0</td>\n",
       "      <td>0</td>\n",
       "      <td>1</td>\n",
       "      <td>0</td>\n",
       "    </tr>\n",
       "    <tr>\n",
       "      <th>9</th>\n",
       "      <td>0</td>\n",
       "      <td>0</td>\n",
       "      <td>0.42</td>\n",
       "      <td>2</td>\n",
       "      <td>142</td>\n",
       "      <td>3</td>\n",
       "      <td>1</td>\n",
       "      <td>0</td>\n",
       "      <td>0</td>\n",
       "      <td>0</td>\n",
       "      <td>0</td>\n",
       "      <td>0</td>\n",
       "      <td>0</td>\n",
       "      <td>0</td>\n",
       "      <td>1</td>\n",
       "      <td>0</td>\n",
       "      <td>0</td>\n",
       "      <td>0</td>\n",
       "      <td>1</td>\n",
       "      <td>0</td>\n",
       "    </tr>\n",
       "    <tr>\n",
       "      <th>10</th>\n",
       "      <td>0</td>\n",
       "      <td>0</td>\n",
       "      <td>0.45</td>\n",
       "      <td>2</td>\n",
       "      <td>135</td>\n",
       "      <td>3</td>\n",
       "      <td>1</td>\n",
       "      <td>0</td>\n",
       "      <td>0</td>\n",
       "      <td>0</td>\n",
       "      <td>0</td>\n",
       "      <td>0</td>\n",
       "      <td>0</td>\n",
       "      <td>0</td>\n",
       "      <td>1</td>\n",
       "      <td>0</td>\n",
       "      <td>0</td>\n",
       "      <td>0</td>\n",
       "      <td>1</td>\n",
       "      <td>0</td>\n",
       "    </tr>\n",
       "    <tr>\n",
       "      <th>11</th>\n",
       "      <td>0</td>\n",
       "      <td>0</td>\n",
       "      <td>0.11</td>\n",
       "      <td>6</td>\n",
       "      <td>305</td>\n",
       "      <td>4</td>\n",
       "      <td>1</td>\n",
       "      <td>0</td>\n",
       "      <td>0</td>\n",
       "      <td>0</td>\n",
       "      <td>0</td>\n",
       "      <td>0</td>\n",
       "      <td>0</td>\n",
       "      <td>0</td>\n",
       "      <td>1</td>\n",
       "      <td>0</td>\n",
       "      <td>0</td>\n",
       "      <td>0</td>\n",
       "      <td>1</td>\n",
       "      <td>0</td>\n",
       "    </tr>\n",
       "    <tr>\n",
       "      <th>12</th>\n",
       "      <td>0</td>\n",
       "      <td>0</td>\n",
       "      <td>0.84</td>\n",
       "      <td>4</td>\n",
       "      <td>234</td>\n",
       "      <td>5</td>\n",
       "      <td>1</td>\n",
       "      <td>0</td>\n",
       "      <td>0</td>\n",
       "      <td>0</td>\n",
       "      <td>0</td>\n",
       "      <td>0</td>\n",
       "      <td>0</td>\n",
       "      <td>0</td>\n",
       "      <td>1</td>\n",
       "      <td>0</td>\n",
       "      <td>0</td>\n",
       "      <td>0</td>\n",
       "      <td>1</td>\n",
       "      <td>0</td>\n",
       "    </tr>\n",
       "    <tr>\n",
       "      <th>13</th>\n",
       "      <td>0</td>\n",
       "      <td>0</td>\n",
       "      <td>0.41</td>\n",
       "      <td>2</td>\n",
       "      <td>148</td>\n",
       "      <td>3</td>\n",
       "      <td>1</td>\n",
       "      <td>0</td>\n",
       "      <td>0</td>\n",
       "      <td>0</td>\n",
       "      <td>0</td>\n",
       "      <td>0</td>\n",
       "      <td>0</td>\n",
       "      <td>0</td>\n",
       "      <td>1</td>\n",
       "      <td>0</td>\n",
       "      <td>0</td>\n",
       "      <td>0</td>\n",
       "      <td>1</td>\n",
       "      <td>0</td>\n",
       "    </tr>\n",
       "    <tr>\n",
       "      <th>14</th>\n",
       "      <td>0</td>\n",
       "      <td>0</td>\n",
       "      <td>0.36</td>\n",
       "      <td>2</td>\n",
       "      <td>137</td>\n",
       "      <td>3</td>\n",
       "      <td>1</td>\n",
       "      <td>0</td>\n",
       "      <td>0</td>\n",
       "      <td>0</td>\n",
       "      <td>0</td>\n",
       "      <td>0</td>\n",
       "      <td>0</td>\n",
       "      <td>0</td>\n",
       "      <td>1</td>\n",
       "      <td>0</td>\n",
       "      <td>0</td>\n",
       "      <td>0</td>\n",
       "      <td>1</td>\n",
       "      <td>0</td>\n",
       "    </tr>\n",
       "  </tbody>\n",
       "</table>\n",
       "</div>"
      ],
      "text/plain": [
       "    Work_accident  promotion_last_5years  satisfaction_level  number_project  \\\n",
       "0               0                      0                0.38               2   \n",
       "1               0                      0                0.80               5   \n",
       "2               0                      0                0.11               7   \n",
       "3               0                      0                0.72               5   \n",
       "4               0                      0                0.37               2   \n",
       "5               0                      0                0.41               2   \n",
       "6               0                      0                0.10               6   \n",
       "7               0                      0                0.92               5   \n",
       "8               0                      0                0.89               5   \n",
       "9               0                      0                0.42               2   \n",
       "10              0                      0                0.45               2   \n",
       "11              0                      0                0.11               6   \n",
       "12              0                      0                0.84               4   \n",
       "13              0                      0                0.41               2   \n",
       "14              0                      0                0.36               2   \n",
       "\n",
       "    average_montly_hours  time_spend_company  left  Department_IT  \\\n",
       "0                    157                   3     1              0   \n",
       "1                    262                   6     1              0   \n",
       "2                    272                   4     1              0   \n",
       "3                    223                   5     1              0   \n",
       "4                    159                   3     1              0   \n",
       "5                    153                   3     1              0   \n",
       "6                    247                   4     1              0   \n",
       "7                    259                   5     1              0   \n",
       "8                    224                   5     1              0   \n",
       "9                    142                   3     1              0   \n",
       "10                   135                   3     1              0   \n",
       "11                   305                   4     1              0   \n",
       "12                   234                   5     1              0   \n",
       "13                   148                   3     1              0   \n",
       "14                   137                   3     1              0   \n",
       "\n",
       "    Department_RandD  Department_accounting  Department_hr  \\\n",
       "0                  0                      0              0   \n",
       "1                  0                      0              0   \n",
       "2                  0                      0              0   \n",
       "3                  0                      0              0   \n",
       "4                  0                      0              0   \n",
       "5                  0                      0              0   \n",
       "6                  0                      0              0   \n",
       "7                  0                      0              0   \n",
       "8                  0                      0              0   \n",
       "9                  0                      0              0   \n",
       "10                 0                      0              0   \n",
       "11                 0                      0              0   \n",
       "12                 0                      0              0   \n",
       "13                 0                      0              0   \n",
       "14                 0                      0              0   \n",
       "\n",
       "    Department_management  Department_marketing  Department_product_mng  \\\n",
       "0                       0                     0                       0   \n",
       "1                       0                     0                       0   \n",
       "2                       0                     0                       0   \n",
       "3                       0                     0                       0   \n",
       "4                       0                     0                       0   \n",
       "5                       0                     0                       0   \n",
       "6                       0                     0                       0   \n",
       "7                       0                     0                       0   \n",
       "8                       0                     0                       0   \n",
       "9                       0                     0                       0   \n",
       "10                      0                     0                       0   \n",
       "11                      0                     0                       0   \n",
       "12                      0                     0                       0   \n",
       "13                      0                     0                       0   \n",
       "14                      0                     0                       0   \n",
       "\n",
       "    Department_sales  Department_support  Department_technical  salary_high  \\\n",
       "0                  1                   0                     0            0   \n",
       "1                  1                   0                     0            0   \n",
       "2                  1                   0                     0            0   \n",
       "3                  1                   0                     0            0   \n",
       "4                  1                   0                     0            0   \n",
       "5                  1                   0                     0            0   \n",
       "6                  1                   0                     0            0   \n",
       "7                  1                   0                     0            0   \n",
       "8                  1                   0                     0            0   \n",
       "9                  1                   0                     0            0   \n",
       "10                 1                   0                     0            0   \n",
       "11                 1                   0                     0            0   \n",
       "12                 1                   0                     0            0   \n",
       "13                 1                   0                     0            0   \n",
       "14                 1                   0                     0            0   \n",
       "\n",
       "    salary_low  salary_medium  \n",
       "0            1              0  \n",
       "1            0              1  \n",
       "2            0              1  \n",
       "3            1              0  \n",
       "4            1              0  \n",
       "5            1              0  \n",
       "6            1              0  \n",
       "7            1              0  \n",
       "8            1              0  \n",
       "9            1              0  \n",
       "10           1              0  \n",
       "11           1              0  \n",
       "12           1              0  \n",
       "13           1              0  \n",
       "14           1              0  "
      ]
     },
     "execution_count": 110,
     "metadata": {},
     "output_type": "execute_result"
    }
   ],
   "source": [
    "DataForML_Numeric=pd.get_dummies(DataForMl)\n",
    "\n",
    "DataForML_Numeric['left']=hra['left']\n",
    "\n",
    "DataForML_Numeric.head(15)"
   ]
  },
  {
   "cell_type": "markdown",
   "id": "085b18c7",
   "metadata": {},
   "source": [
    "# Machine Learning: Splitting the data into Training and Testing sample"
   ]
  },
  {
   "cell_type": "code",
   "execution_count": 111,
   "id": "5016f10c",
   "metadata": {},
   "outputs": [
    {
     "data": {
      "text/plain": [
       "Index(['Work_accident', 'promotion_last_5years', 'satisfaction_level',\n",
       "       'number_project', 'average_montly_hours', 'time_spend_company', 'left',\n",
       "       'Department_IT', 'Department_RandD', 'Department_accounting',\n",
       "       'Department_hr', 'Department_management', 'Department_marketing',\n",
       "       'Department_product_mng', 'Department_sales', 'Department_support',\n",
       "       'Department_technical', 'salary_high', 'salary_low', 'salary_medium'],\n",
       "      dtype='object')"
      ]
     },
     "execution_count": 111,
     "metadata": {},
     "output_type": "execute_result"
    }
   ],
   "source": [
    "DataForML_Numeric.columns"
   ]
  },
  {
   "cell_type": "code",
   "execution_count": 112,
   "id": "5b3fe304",
   "metadata": {},
   "outputs": [],
   "source": [
    "TargetVariable='left'\n",
    "Predictors=['Work_accident', 'promotion_last_5years', 'satisfaction_level',\n",
    "       'number_project', 'average_montly_hours', 'time_spend_company',\n",
    "       'Department_IT', 'Department_RandD', 'Department_accounting',\n",
    "       'Department_hr', 'Department_management', 'Department_marketing',\n",
    "       'Department_product_mng', 'Department_sales', 'Department_support',\n",
    "       'Department_technical', 'salary_high', 'salary_low', 'salary_medium']\n",
    "\n",
    "X=DataForML_Numeric[Predictors].values\n",
    "Y=DataForML_Numeric[TargetVariable].values\n",
    "\n",
    "from sklearn.model_selection import train_test_split\n",
    "X_train, X_test, Y_train, Y_test = train_test_split(X, Y, test_size=0.3, random_state=428)"
   ]
  },
  {
   "cell_type": "markdown",
   "id": "1a2f0442",
   "metadata": {},
   "source": [
    "# Standardization/Normalization of data"
   ]
  },
  {
   "cell_type": "code",
   "execution_count": 113,
   "id": "3ccae607",
   "metadata": {},
   "outputs": [],
   "source": [
    "from sklearn.preprocessing import StandardScaler, MinMaxScaler\n",
    "\n",
    "PredictorScaler=MinMaxScaler()\n",
    "\n",
    "PredictorScalerFit=PredictorScaler.fit(X)\n",
    "\n",
    "X=PredictorScalerFit.transform(X)\n",
    "\n",
    "from sklearn.model_selection import train_test_split\n",
    "X_train, X_test, Y_train, Y_test = train_test_split(X, Y, test_size=0.25, random_state=42)"
   ]
  },
  {
   "cell_type": "code",
   "execution_count": 114,
   "id": "a842d4d0",
   "metadata": {},
   "outputs": [
    {
     "name": "stdout",
     "output_type": "stream",
     "text": [
      "(11249, 19)\n",
      "(11249,)\n",
      "(3750, 19)\n",
      "(3750,)\n"
     ]
    }
   ],
   "source": [
    "print(X_train.shape)\n",
    "print(Y_train.shape)\n",
    "print(X_test.shape)\n",
    "print(Y_test.shape)"
   ]
  },
  {
   "cell_type": "markdown",
   "id": "3d066550",
   "metadata": {},
   "source": [
    "# Logistic Regression"
   ]
  },
  {
   "cell_type": "code",
   "execution_count": 115,
   "id": "e14d472a",
   "metadata": {},
   "outputs": [
    {
     "name": "stdout",
     "output_type": "stream",
     "text": [
      "Best Score: 0.7978529538210658\n",
      "Best Hyperparameters: {'C': 0.005992303069529333, 'penalty': 'l1', 'solver': 'liblinear'}\n"
     ]
    }
   ],
   "source": [
    "from scipy.stats import loguniform\n",
    "from sklearn.linear_model import LogisticRegression\n",
    "from sklearn.model_selection import RepeatedStratifiedKFold\n",
    "from sklearn.model_selection import RandomizedSearchCV\n",
    "model = LogisticRegression()\n",
    "cv = RepeatedStratifiedKFold(n_splits=10, n_repeats=3, random_state=1)\n",
    "space = dict()\n",
    "space['solver'] = ['newton-cg', 'lbfgs', 'liblinear']\n",
    "space['penalty'] = ['none', 'l1', 'l2', 'elasticnet']\n",
    "space['C'] = loguniform(1e-5, 100)\n",
    "search = RandomizedSearchCV(model, space, n_iter=500, scoring='accuracy', n_jobs=-1, cv=cv, random_state=1)\n",
    "result = search.fit(X, Y)\n",
    "print('Best Score: %s' % result.best_score_)\n",
    "print('Best Hyperparameters: %s' % result.best_params_)"
   ]
  },
  {
   "cell_type": "code",
   "execution_count": 116,
   "id": "fe9d51c1",
   "metadata": {},
   "outputs": [
    {
     "name": "stdout",
     "output_type": "stream",
     "text": [
      "              precision    recall  f1-score   support\n",
      "\n",
      "           0       0.82      0.92      0.87      2853\n",
      "           1       0.59      0.37      0.45       897\n",
      "\n",
      "    accuracy                           0.79      3750\n",
      "   macro avg       0.70      0.64      0.66      3750\n",
      "weighted avg       0.77      0.79      0.77      3750\n",
      "\n",
      "[[2619  565]\n",
      " [ 234  332]]\n",
      "Accuracy of the model on Testing Sample Data: 0.77\n",
      "\n",
      "Accuracy values for 10-fold Cross Validation:\n",
      " [0.79468615 0.77046256 0.76927026 0.76550245 0.78415699 0.79626362\n",
      " 0.77810357 0.77226439 0.743528   0.73450639]\n",
      "\n",
      "Final Average Accuracy of the model: 0.77\n"
     ]
    }
   ],
   "source": [
    "from sklearn.linear_model import LogisticRegression\n",
    "clf=LogisticRegression(C=5,penalty='l1',solver='liblinear')\n",
    "\n",
    "LOG=clf.fit(X_train,Y_train)\n",
    "prediction=LOG.predict(X_test)\n",
    "\n",
    "\n",
    "from sklearn import metrics\n",
    "print(metrics.classification_report(Y_test,prediction))\n",
    "print(metrics.confusion_matrix(prediction,Y_test))\n",
    "\n",
    "F1_Score=metrics.f1_score(Y_test,prediction,average='weighted')\n",
    "print('Accuracy of the model on Testing Sample Data:', round(F1_Score,2))\n",
    "\n",
    "from sklearn.model_selection import cross_val_score\n",
    "\n",
    "Accuracy_Values=cross_val_score(LOG, X , Y, cv=10, scoring='f1_weighted')\n",
    "print('\\nAccuracy values for 10-fold Cross Validation:\\n',Accuracy_Values)\n",
    "print('\\nFinal Average Accuracy of the model:', round(Accuracy_Values.mean(),2))\n"
   ]
  },
  {
   "cell_type": "markdown",
   "id": "9d0e416d",
   "metadata": {},
   "source": [
    "# Decision Trees"
   ]
  },
  {
   "cell_type": "code",
   "execution_count": 117,
   "id": "6c543394",
   "metadata": {},
   "outputs": [
    {
     "name": "stdout",
     "output_type": "stream",
     "text": [
      "DecisionTreeClassifier(criterion='entropy', max_depth=3)\n",
      "              precision    recall  f1-score   support\n",
      "\n",
      "           0       0.97      0.95      0.96      2853\n",
      "           1       0.84      0.92      0.88       897\n",
      "\n",
      "    accuracy                           0.94      3750\n",
      "   macro avg       0.91      0.93      0.92      3750\n",
      "weighted avg       0.94      0.94      0.94      3750\n",
      "\n",
      "[[2700  153]\n",
      " [  76  821]]\n",
      "Accuracy of the model on Testing Sample Data: 0.94\n",
      "\n",
      "Accuracy values for 10-fold Cross Validation:\n",
      " [0.95564397 0.96064768 0.95406601 0.95452377 0.94720464 0.94984441\n",
      " 0.96212611 0.95432134 0.90367267 0.90207483]\n",
      "\n",
      "Final Average Accuracy of the model: 0.94\n"
     ]
    },
    {
     "data": {
      "image/png": "[encoded data removed]",
      "text/plain": [
       "<Figure size 432x288 with 1 Axes>"
      ]
     },
     "metadata": {
      "needs_background": "light"
     },
     "output_type": "display_data"
    }
   ],
   "source": [
    "from sklearn import tree\n",
    "\n",
    "clf = tree.DecisionTreeClassifier(max_depth=3,criterion='entropy')\n",
    "\n",
    "print(clf)\n",
    "\n",
    "DTree=clf.fit(X_train,Y_train)\n",
    "prediction=DTree.predict(X_test)\n",
    "\n",
    "from sklearn import metrics\n",
    "print(metrics.classification_report(Y_test, prediction))\n",
    "print(metrics.confusion_matrix(Y_test, prediction))\n",
    "\n",
    "F1_Score=metrics.f1_score(Y_test, prediction, average='weighted')\n",
    "print('Accuracy of the model on Testing Sample Data:', round(F1_Score,2))\n",
    "\n",
    "%matplotlib inline\n",
    "feature_importances = pd.Series(DTree.feature_importances_, index=Predictors)\n",
    "feature_importances.nlargest(10).plot(kind='barh')\n",
    "\n",
    "from sklearn.model_selection import cross_val_score\n",
    "\n",
    "Accuracy_Values=cross_val_score(DTree, X , Y, cv=10, scoring='f1_weighted')\n",
    "print('\\nAccuracy values for 10-fold Cross Validation:\\n',Accuracy_Values)\n",
    "print('\\nFinal Average Accuracy of the model:', round(Accuracy_Values.mean(),2))"
   ]
  },
  {
   "cell_type": "markdown",
   "id": "57ca4741",
   "metadata": {},
   "source": [
    "# Random Forest"
   ]
  },
  {
   "cell_type": "code",
   "execution_count": 118,
   "id": "ba5a5ceb",
   "metadata": {},
   "outputs": [
    {
     "name": "stdout",
     "output_type": "stream",
     "text": [
      "RandomForestClassifier(max_depth=4, n_estimators=200)\n",
      "              precision    recall  f1-score   support\n",
      "\n",
      "           0       0.90      0.99      0.95      2853\n",
      "           1       0.96      0.66      0.78       897\n",
      "\n",
      "    accuracy                           0.91      3750\n",
      "   macro avg       0.93      0.83      0.87      3750\n",
      "weighted avg       0.92      0.91      0.91      3750\n",
      "\n",
      "[[2830   23]\n",
      " [ 303  594]]\n",
      "Accuracy of the model on Testing Sample Data: 0.91\n",
      "\n",
      "Accuracy values for 10-fold Cross Validation:\n",
      " [0.91997735 0.9016813  0.89903303 0.90807582 0.90718817 0.92082114\n",
      " 0.90201872 0.91337887 0.91118487 0.91307109]\n",
      "\n",
      "Final Average Accuracy of the model: 0.91\n"
     ]
    },
    {
     "data": {
      "text/plain": [
       "<AxesSubplot:>"
      ]
     },
     "execution_count": 118,
     "metadata": {},
     "output_type": "execute_result"
    },
    {
     "data": {
      "image/png": "[encoded data removed]",
      "text/plain": [
       "<Figure size 432x288 with 1 Axes>"
      ]
     },
     "metadata": {
      "needs_background": "light"
     },
     "output_type": "display_data"
    }
   ],
   "source": [
    "from sklearn.ensemble import RandomForestClassifier\n",
    "\n",
    "clf = RandomForestClassifier(max_depth=4, n_estimators=200,criterion='gini')\n",
    "\n",
    "print(clf)\n",
    "\n",
    "RF=clf.fit(X_train,Y_train)\n",
    "prediction=RF.predict(X_test)\n",
    "\n",
    "from sklearn import metrics\n",
    "print(metrics.classification_report(Y_test, prediction))\n",
    "print(metrics.confusion_matrix(Y_test, prediction))\n",
    "\n",
    "\n",
    "F1_Score=metrics.f1_score(Y_test, prediction, average='weighted')\n",
    "print('Accuracy of the model on Testing Sample Data:', round(F1_Score,2))\n",
    "\n",
    "from sklearn.model_selection import cross_val_score\n",
    "\n",
    "\n",
    "Accuracy_Values=cross_val_score(RF, X , Y, cv=10, scoring='f1_weighted')\n",
    "print('\\nAccuracy values for 10-fold Cross Validation:\\n',Accuracy_Values)\n",
    "print('\\nFinal Average Accuracy of the model:', round(Accuracy_Values.mean(),2))\n",
    "\n",
    "%matplotlib inline\n",
    "feature_importances = pd.Series(RF.feature_importances_, index=Predictors)\n",
    "feature_importances.nlargest(10).plot(kind='barh')"
   ]
  },
  {
   "cell_type": "code",
   "execution_count": 119,
   "id": "d19a1658",
   "metadata": {
    "collapsed": true
   },
   "outputs": [
    {
     "name": "stdout",
     "output_type": "stream",
     "text": [
      "Requirement already satisfied: dtreeplt in c:\\users\\dipam\\anaconda3\\lib\\site-packages (0.1.43)\n",
      "Requirement already satisfied: ipython>=7.2.0 in c:\\users\\dipam\\anaconda3\\lib\\site-packages (from dtreeplt) (8.2.0)\n",
      "Requirement already satisfied: matplotlib>=3.0.2 in c:\\users\\dipam\\anaconda3\\lib\\site-packages (from dtreeplt) (3.5.1)\n",
      "Requirement already satisfied: scikit-learn>=0.20.2 in c:\\users\\dipam\\anaconda3\\lib\\site-packages (from dtreeplt) (1.0.2)\n",
      "Requirement already satisfied: numpy>=1.15.1 in c:\\users\\dipam\\anaconda3\\lib\\site-packages (from dtreeplt) (1.21.5)\n",
      "Requirement already satisfied: ipywidgets>=7.4.2 in c:\\users\\dipam\\anaconda3\\lib\\site-packages (from dtreeplt) (7.6.5)\n",
      "Requirement already satisfied: setuptools>=18.5 in c:\\users\\dipam\\anaconda3\\lib\\site-packages (from ipython>=7.2.0->dtreeplt) (61.2.0)\n",
      "Requirement already satisfied: pickleshare in c:\\users\\dipam\\anaconda3\\lib\\site-packages (from ipython>=7.2.0->dtreeplt) (0.7.5)\n",
      "Requirement already satisfied: stack-data in c:\\users\\dipam\\anaconda3\\lib\\site-packages (from ipython>=7.2.0->dtreeplt) (0.2.0)\n",
      "Requirement already satisfied: matplotlib-inline in c:\\users\\dipam\\anaconda3\\lib\\site-packages (from ipython>=7.2.0->dtreeplt) (0.1.2)\n",
      "Requirement already satisfied: backcall in c:\\users\\dipam\\anaconda3\\lib\\site-packages (from ipython>=7.2.0->dtreeplt) (0.2.0)\n",
      "Requirement already satisfied: prompt-toolkit!=3.0.0,!=3.0.1,<3.1.0,>=2.0.0 in c:\\users\\dipam\\anaconda3\\lib\\site-packages (from ipython>=7.2.0->dtreeplt) (3.0.20)\n",
      "Requirement already satisfied: pygments>=2.4.0 in c:\\users\\dipam\\anaconda3\\lib\\site-packages (from ipython>=7.2.0->dtreeplt) (2.11.2)\n",
      "Requirement already satisfied: colorama in c:\\users\\dipam\\anaconda3\\lib\\site-packages (from ipython>=7.2.0->dtreeplt) (0.4.4)\n",
      "Requirement already satisfied: traitlets>=5 in c:\\users\\dipam\\anaconda3\\lib\\site-packages (from ipython>=7.2.0->dtreeplt) (5.1.1)\n",
      "Requirement already satisfied: jedi>=0.16 in c:\\users\\dipam\\anaconda3\\lib\\site-packages (from ipython>=7.2.0->dtreeplt) (0.18.1)\n",
      "Requirement already satisfied: decorator in c:\\users\\dipam\\anaconda3\\lib\\site-packages (from ipython>=7.2.0->dtreeplt) (5.1.1)\n",
      "Note: you may need to restart the kernel to use updated packages.Requirement already satisfied: ipykernel>=4.5.1 in c:\\users\\dipam\\anaconda3\\lib\\site-packages (from ipywidgets>=7.4.2->dtreeplt) (6.9.1)\n",
      "\n",
      "Requirement already satisfied: ipython-genutils~=0.2.0 in c:\\users\\dipam\\anaconda3\\lib\\site-packages (from ipywidgets>=7.4.2->dtreeplt) (0.2.0)\n",
      "Requirement already satisfied: widgetsnbextension~=3.5.0 in c:\\users\\dipam\\anaconda3\\lib\\site-packages (from ipywidgets>=7.4.2->dtreeplt) (3.5.2)\n",
      "Requirement already satisfied: jupyterlab-widgets>=1.0.0 in c:\\users\\dipam\\anaconda3\\lib\\site-packages (from ipywidgets>=7.4.2->dtreeplt) (1.0.0)\n",
      "Requirement already satisfied: nbformat>=4.2.0 in c:\\users\\dipam\\anaconda3\\lib\\site-packages (from ipywidgets>=7.4.2->dtreeplt) (5.3.0)\n",
      "Requirement already satisfied: nest-asyncio in c:\\users\\dipam\\anaconda3\\lib\\site-packages (from ipykernel>=4.5.1->ipywidgets>=7.4.2->dtreeplt) (1.5.5)\n",
      "Requirement already satisfied: jupyter-client<8.0 in c:\\users\\dipam\\anaconda3\\lib\\site-packages (from ipykernel>=4.5.1->ipywidgets>=7.4.2->dtreeplt) (6.1.12)\n",
      "Requirement already satisfied: debugpy<2.0,>=1.0.0 in c:\\users\\dipam\\anaconda3\\lib\\site-packages (from ipykernel>=4.5.1->ipywidgets>=7.4.2->dtreeplt) (1.5.1)\n",
      "Requirement already satisfied: tornado<7.0,>=4.2 in c:\\users\\dipam\\anaconda3\\lib\\site-packages (from ipykernel>=4.5.1->ipywidgets>=7.4.2->dtreeplt) (6.1)\n",
      "Requirement already satisfied: parso<0.9.0,>=0.8.0 in c:\\users\\dipam\\anaconda3\\lib\\site-packages (from jedi>=0.16->ipython>=7.2.0->dtreeplt) (0.8.3)\n",
      "Requirement already satisfied: pyzmq>=13 in c:\\users\\dipam\\anaconda3\\lib\\site-packages (from jupyter-client<8.0->ipykernel>=4.5.1->ipywidgets>=7.4.2->dtreeplt) (22.3.0)\n",
      "Requirement already satisfied: jupyter-core>=4.6.0 in c:\\users\\dipam\\anaconda3\\lib\\site-packages (from jupyter-client<8.0->ipykernel>=4.5.1->ipywidgets>=7.4.2->dtreeplt) (4.9.2)\n",
      "Requirement already satisfied: python-dateutil>=2.1 in c:\\users\\dipam\\anaconda3\\lib\\site-packages (from jupyter-client<8.0->ipykernel>=4.5.1->ipywidgets>=7.4.2->dtreeplt) (2.8.2)\n",
      "Requirement already satisfied: pywin32>=1.0 in c:\\users\\dipam\\anaconda3\\lib\\site-packages (from jupyter-core>=4.6.0->jupyter-client<8.0->ipykernel>=4.5.1->ipywidgets>=7.4.2->dtreeplt) (302)\n",
      "Requirement already satisfied: pillow>=6.2.0 in c:\\users\\dipam\\anaconda3\\lib\\site-packages (from matplotlib>=3.0.2->dtreeplt) (9.0.1)\n",
      "Requirement already satisfied: cycler>=0.10 in c:\\users\\dipam\\anaconda3\\lib\\site-packages (from matplotlib>=3.0.2->dtreeplt) (0.11.0)\n",
      "Requirement already satisfied: fonttools>=4.22.0 in c:\\users\\dipam\\anaconda3\\lib\\site-packages (from matplotlib>=3.0.2->dtreeplt) (4.25.0)\n",
      "Requirement already satisfied: packaging>=20.0 in c:\\users\\dipam\\anaconda3\\lib\\site-packages (from matplotlib>=3.0.2->dtreeplt) (21.3)\n",
      "Requirement already satisfied: pyparsing>=2.2.1 in c:\\users\\dipam\\anaconda3\\lib\\site-packages (from matplotlib>=3.0.2->dtreeplt) (3.0.4)\n",
      "Requirement already satisfied: kiwisolver>=1.0.1 in c:\\users\\dipam\\anaconda3\\lib\\site-packages (from matplotlib>=3.0.2->dtreeplt) (1.3.2)\n",
      "Requirement already satisfied: jsonschema>=2.6 in c:\\users\\dipam\\anaconda3\\lib\\site-packages (from nbformat>=4.2.0->ipywidgets>=7.4.2->dtreeplt) (4.4.0)\n",
      "Requirement already satisfied: fastjsonschema in c:\\users\\dipam\\anaconda3\\lib\\site-packages (from nbformat>=4.2.0->ipywidgets>=7.4.2->dtreeplt) (2.15.1)\n",
      "Requirement already satisfied: attrs>=17.4.0 in c:\\users\\dipam\\anaconda3\\lib\\site-packages (from jsonschema>=2.6->nbformat>=4.2.0->ipywidgets>=7.4.2->dtreeplt) (21.4.0)\n",
      "Requirement already satisfied: pyrsistent!=0.17.0,!=0.17.1,!=0.17.2,>=0.14.0 in c:\\users\\dipam\\anaconda3\\lib\\site-packages (from jsonschema>=2.6->nbformat>=4.2.0->ipywidgets>=7.4.2->dtreeplt) (0.18.0)\n",
      "Requirement already satisfied: wcwidth in c:\\users\\dipam\\anaconda3\\lib\\site-packages (from prompt-toolkit!=3.0.0,!=3.0.1,<3.1.0,>=2.0.0->ipython>=7.2.0->dtreeplt) (0.2.5)\n",
      "Requirement already satisfied: six>=1.5 in c:\\users\\dipam\\anaconda3\\lib\\site-packages (from python-dateutil>=2.1->jupyter-client<8.0->ipykernel>=4.5.1->ipywidgets>=7.4.2->dtreeplt) (1.16.0)\n",
      "Requirement already satisfied: scipy>=1.1.0 in c:\\users\\dipam\\anaconda3\\lib\\site-packages (from scikit-learn>=0.20.2->dtreeplt) (1.7.3)\n",
      "Requirement already satisfied: threadpoolctl>=2.0.0 in c:\\users\\dipam\\anaconda3\\lib\\site-packages (from scikit-learn>=0.20.2->dtreeplt) (2.2.0)\n",
      "Requirement already satisfied: joblib>=0.11 in c:\\users\\dipam\\anaconda3\\lib\\site-packages (from scikit-learn>=0.20.2->dtreeplt) (1.1.0)\n",
      "Requirement already satisfied: notebook>=4.4.1 in c:\\users\\dipam\\anaconda3\\lib\\site-packages (from widgetsnbextension~=3.5.0->ipywidgets>=7.4.2->dtreeplt) (6.4.8)\n",
      "Requirement already satisfied: terminado>=0.8.3 in c:\\users\\dipam\\anaconda3\\lib\\site-packages (from notebook>=4.4.1->widgetsnbextension~=3.5.0->ipywidgets>=7.4.2->dtreeplt) (0.13.1)\n",
      "Requirement already satisfied: prometheus-client in c:\\users\\dipam\\anaconda3\\lib\\site-packages (from notebook>=4.4.1->widgetsnbextension~=3.5.0->ipywidgets>=7.4.2->dtreeplt) (0.13.1)\n",
      "Requirement already satisfied: nbconvert in c:\\users\\dipam\\anaconda3\\lib\\site-packages (from notebook>=4.4.1->widgetsnbextension~=3.5.0->ipywidgets>=7.4.2->dtreeplt) (6.4.4)\n",
      "Requirement already satisfied: argon2-cffi in c:\\users\\dipam\\anaconda3\\lib\\site-packages (from notebook>=4.4.1->widgetsnbextension~=3.5.0->ipywidgets>=7.4.2->dtreeplt) (21.3.0)\n",
      "Requirement already satisfied: Send2Trash>=1.8.0 in c:\\users\\dipam\\anaconda3\\lib\\site-packages (from notebook>=4.4.1->widgetsnbextension~=3.5.0->ipywidgets>=7.4.2->dtreeplt) (1.8.0)\n",
      "Requirement already satisfied: jinja2 in c:\\users\\dipam\\anaconda3\\lib\\site-packages (from notebook>=4.4.1->widgetsnbextension~=3.5.0->ipywidgets>=7.4.2->dtreeplt) (2.11.3)\n",
      "Requirement already satisfied: pywinpty>=1.1.0 in c:\\users\\dipam\\anaconda3\\lib\\site-packages (from terminado>=0.8.3->notebook>=4.4.1->widgetsnbextension~=3.5.0->ipywidgets>=7.4.2->dtreeplt) (2.0.2)\n",
      "Requirement already satisfied: argon2-cffi-bindings in c:\\users\\dipam\\anaconda3\\lib\\site-packages (from argon2-cffi->notebook>=4.4.1->widgetsnbextension~=3.5.0->ipywidgets>=7.4.2->dtreeplt) (21.2.0)\n",
      "Requirement already satisfied: cffi>=1.0.1 in c:\\users\\dipam\\anaconda3\\lib\\site-packages (from argon2-cffi-bindings->argon2-cffi->notebook>=4.4.1->widgetsnbextension~=3.5.0->ipywidgets>=7.4.2->dtreeplt) (1.15.0)\n",
      "Requirement already satisfied: pycparser in c:\\users\\dipam\\anaconda3\\lib\\site-packages (from cffi>=1.0.1->argon2-cffi-bindings->argon2-cffi->notebook>=4.4.1->widgetsnbextension~=3.5.0->ipywidgets>=7.4.2->dtreeplt) (2.21)\n",
      "Requirement already satisfied: MarkupSafe>=0.23 in c:\\users\\dipam\\anaconda3\\lib\\site-packages (from jinja2->notebook>=4.4.1->widgetsnbextension~=3.5.0->ipywidgets>=7.4.2->dtreeplt) (2.0.1)\n",
      "Requirement already satisfied: beautifulsoup4 in c:\\users\\dipam\\anaconda3\\lib\\site-packages (from nbconvert->notebook>=4.4.1->widgetsnbextension~=3.5.0->ipywidgets>=7.4.2->dtreeplt) (4.11.1)\n",
      "Requirement already satisfied: pandocfilters>=1.4.1 in c:\\users\\dipam\\anaconda3\\lib\\site-packages (from nbconvert->notebook>=4.4.1->widgetsnbextension~=3.5.0->ipywidgets>=7.4.2->dtreeplt) (1.5.0)\n",
      "Requirement already satisfied: testpath in c:\\users\\dipam\\anaconda3\\lib\\site-packages (from nbconvert->notebook>=4.4.1->widgetsnbextension~=3.5.0->ipywidgets>=7.4.2->dtreeplt) (0.5.0)\n",
      "Requirement already satisfied: entrypoints>=0.2.2 in c:\\users\\dipam\\anaconda3\\lib\\site-packages (from nbconvert->notebook>=4.4.1->widgetsnbextension~=3.5.0->ipywidgets>=7.4.2->dtreeplt) (0.4)\n",
      "Requirement already satisfied: bleach in c:\\users\\dipam\\anaconda3\\lib\\site-packages (from nbconvert->notebook>=4.4.1->widgetsnbextension~=3.5.0->ipywidgets>=7.4.2->dtreeplt) (4.1.0)\n",
      "Requirement already satisfied: defusedxml in c:\\users\\dipam\\anaconda3\\lib\\site-packages (from nbconvert->notebook>=4.4.1->widgetsnbextension~=3.5.0->ipywidgets>=7.4.2->dtreeplt) (0.7.1)\n",
      "Requirement already satisfied: jupyterlab-pygments in c:\\users\\dipam\\anaconda3\\lib\\site-packages (from nbconvert->notebook>=4.4.1->widgetsnbextension~=3.5.0->ipywidgets>=7.4.2->dtreeplt) (0.1.2)\n",
      "Requirement already satisfied: mistune<2,>=0.8.1 in c:\\users\\dipam\\anaconda3\\lib\\site-packages (from nbconvert->notebook>=4.4.1->widgetsnbextension~=3.5.0->ipywidgets>=7.4.2->dtreeplt) (0.8.4)\n",
      "Requirement already satisfied: nbclient<0.6.0,>=0.5.0 in c:\\users\\dipam\\anaconda3\\lib\\site-packages (from nbconvert->notebook>=4.4.1->widgetsnbextension~=3.5.0->ipywidgets>=7.4.2->dtreeplt) (0.5.13)\n",
      "Requirement already satisfied: soupsieve>1.2 in c:\\users\\dipam\\anaconda3\\lib\\site-packages (from beautifulsoup4->nbconvert->notebook>=4.4.1->widgetsnbextension~=3.5.0->ipywidgets>=7.4.2->dtreeplt) (2.3.1)\n",
      "Requirement already satisfied: webencodings in c:\\users\\dipam\\anaconda3\\lib\\site-packages (from bleach->nbconvert->notebook>=4.4.1->widgetsnbextension~=3.5.0->ipywidgets>=7.4.2->dtreeplt) (0.5.1)\n",
      "Requirement already satisfied: asttokens in c:\\users\\dipam\\anaconda3\\lib\\site-packages (from stack-data->ipython>=7.2.0->dtreeplt) (2.0.5)\n",
      "Requirement already satisfied: executing in c:\\users\\dipam\\anaconda3\\lib\\site-packages (from stack-data->ipython>=7.2.0->dtreeplt) (0.8.3)\n",
      "Requirement already satisfied: pure-eval in c:\\users\\dipam\\anaconda3\\lib\\site-packages (from stack-data->ipython>=7.2.0->dtreeplt) (0.2.2)\n"
     ]
    }
   ],
   "source": [
    "#pip install dtreeplt"
   ]
  },
  {
   "cell_type": "markdown",
   "id": "5db76d47",
   "metadata": {},
   "source": [
    "# Ada Boost"
   ]
  },
  {
   "cell_type": "code",
   "execution_count": 121,
   "id": "a85eb6e1",
   "metadata": {},
   "outputs": [
    {
     "name": "stdout",
     "output_type": "stream",
     "text": [
      "AdaBoostClassifier(base_estimator=DecisionTreeClassifier(max_depth=3),\n",
      "                   learning_rate=0.01, n_estimators=100)\n",
      "              precision    recall  f1-score   support\n",
      "\n",
      "           0       0.97      0.98      0.98      2853\n",
      "           1       0.94      0.91      0.93       897\n",
      "\n",
      "    accuracy                           0.97      3750\n",
      "   macro avg       0.96      0.95      0.95      3750\n",
      "weighted avg       0.96      0.97      0.96      3750\n",
      "\n",
      "[[2805   48]\n",
      " [  83  814]]\n",
      "Accuracy of the model on Testing Sample Data: 0.96\n",
      "\n",
      "Accuracy values for 10-fold Cross Validation:\n",
      " [0.97180609 0.97099902 0.96574601 0.96796904 0.95923432 0.9697759\n",
      " 0.9724905  0.96777739 0.93886377 0.9390264 ]\n",
      "\n",
      "Final Average Accuracy of the model: 0.96\n"
     ]
    },
    {
     "data": {
      "text/plain": [
       "<AxesSubplot:>"
      ]
     },
     "execution_count": 121,
     "metadata": {},
     "output_type": "execute_result"
    },
    {
     "data": {
      "image/png": "[encoded data removed]",
      "text/plain": [
       "<Figure size 432x288 with 1 Axes>"
      ]
     },
     "metadata": {
      "needs_background": "light"
     },
     "output_type": "display_data"
    }
   ],
   "source": [
    "from sklearn.ensemble import AdaBoostClassifier\n",
    "from sklearn.tree import DecisionTreeClassifier\n",
    "DTC=DecisionTreeClassifier(max_depth=3)\n",
    "clf = AdaBoostClassifier(n_estimators=100, base_estimator=DTC ,learning_rate=0.01)\n",
    "\n",
    "print(clf)\n",
    "\n",
    "AB=clf.fit(X_train,Y_train)\n",
    "prediction=AB.predict(X_test)\n",
    "\n",
    "from sklearn import metrics\n",
    "print(metrics.classification_report(Y_test, prediction))\n",
    "print(metrics.confusion_matrix(Y_test, prediction))\n",
    "\n",
    "F1_Score=metrics.f1_score(Y_test, prediction, average='weighted')\n",
    "print('Accuracy of the model on Testing Sample Data:', round(F1_Score,2))\n",
    "\n",
    "from sklearn.model_selection import cross_val_score\n",
    "\n",
    "Accuracy_Values=cross_val_score(AB, X , Y, cv=10, scoring='f1_weighted')\n",
    "print('\\nAccuracy values for 10-fold Cross Validation:\\n',Accuracy_Values)\n",
    "print('\\nFinal Average Accuracy of the model:', round(Accuracy_Values.mean(),2))\n",
    "\n",
    "\n",
    "%matplotlib inline\n",
    "feature_importances = pd.Series(AB.feature_importances_, index=Predictors)\n",
    "feature_importances.nlargest(10).plot(kind='barh')"
   ]
  },
  {
   "cell_type": "markdown",
   "id": "14ff2e21",
   "metadata": {},
   "source": [
    "# XG Boost"
   ]
  },
  {
   "cell_type": "code",
   "execution_count": 128,
   "id": "9231f92f",
   "metadata": {},
   "outputs": [],
   "source": [
    "#pip install xgboost"
   ]
  },
  {
   "cell_type": "code",
   "execution_count": 127,
   "id": "44f9da2f",
   "metadata": {},
   "outputs": [
    {
     "name": "stdout",
     "output_type": "stream",
     "text": [
      "XGBClassifier(base_score=None, booster='gbtree', callbacks=None,\n",
      "              colsample_bylevel=None, colsample_bynode=None,\n",
      "              colsample_bytree=None, early_stopping_rounds=None,\n",
      "              enable_categorical=False, eval_metric=None, feature_types=None,\n",
      "              gamma=None, gpu_id=None, grow_policy=None, importance_type=None,\n",
      "              interaction_constraints=None, learning_rate=0.1, max_bin=None,\n",
      "              max_cat_threshold=None, max_cat_to_onehot=None,\n",
      "              max_delta_step=None, max_depth=2, max_leaves=None,\n",
      "              min_child_weight=None, missing=nan, monotone_constraints=None,\n",
      "              n_estimators=200, n_jobs=None, num_parallel_tree=None,\n",
      "              predictor=None, random_state=None, ...)\n",
      "              precision    recall  f1-score   support\n",
      "\n",
      "           0       0.98      0.98      0.98      2853\n",
      "           1       0.95      0.92      0.93       897\n",
      "\n",
      "    accuracy                           0.97      3750\n",
      "   macro avg       0.96      0.95      0.96      3750\n",
      "weighted avg       0.97      0.97      0.97      3750\n",
      "\n",
      "[[2805   48]\n",
      " [  70  827]]\n",
      "AccuracY of the model on Testing Sample Data: 0.97\n",
      "\n",
      "AccuracY values for 10-fold Cross Validation:\n",
      " [0.96741077 0.97040194 0.96403452 0.96868172 0.96140715 0.97322875\n",
      " 0.968      0.96983712 0.97320201 0.97457556]\n",
      "\n",
      "Final Average AccuracY of the model: 0.97\n"
     ]
    }
   ],
   "source": [
    "from xgboost import XGBClassifier\n",
    "clf=XGBClassifier(max_depth=2, learning_rate=0.1, n_estimators=200, booster='gbtree')\n",
    "\n",
    "print(clf)\n",
    "\n",
    "XGB=clf.fit(X_train,Y_train)\n",
    "prediction=XGB.predict(X_test)\n",
    "\n",
    "from sklearn import metrics\n",
    "print(metrics.classification_report(Y_test, prediction))\n",
    "print(metrics.confusion_matrix(Y_test, prediction))\n",
    "\n",
    "F1_Score=metrics.f1_score(Y_test, prediction, average='weighted')\n",
    "print('AccuracY of the model on Testing Sample Data:', round(F1_Score,2))\n",
    "\n",
    "from sklearn.model_selection import cross_val_score\n",
    "\n",
    "AccuracY_Values=cross_val_score(XGB, X,Y, cv=10, scoring='f1_weighted')\n",
    "print('\\nAccuracY values for 10-fold Cross Validation:\\n',AccuracY_Values)\n",
    "print('\\nFinal Average AccuracY of the model:', round(AccuracY_Values.mean(),2))"
   ]
  },
  {
   "cell_type": "markdown",
   "id": "e7bc0d0a",
   "metadata": {},
   "source": [
    "# KNN"
   ]
  },
  {
   "cell_type": "code",
   "execution_count": 129,
   "id": "d2ec87d6",
   "metadata": {},
   "outputs": [
    {
     "name": "stdout",
     "output_type": "stream",
     "text": [
      "KNeighborsClassifier(n_neighbors=4)\n",
      "              precision    recall  f1-score   support\n",
      "\n",
      "           0       0.96      0.97      0.96      2853\n",
      "           1       0.89      0.87      0.88       897\n",
      "\n",
      "    accuracy                           0.94      3750\n",
      "   macro avg       0.93      0.92      0.92      3750\n",
      "weighted avg       0.94      0.94      0.94      3750\n",
      "\n",
      "[[2758   95]\n",
      " [ 117  780]]\n",
      "AccuracY of the model on Testing Sample Data: 0.94\n",
      "\n",
      "AccuracY values for 10-fold Cross Validation:\n",
      " [0.94804964 0.95370352 0.93875411 0.93889877 0.92905618 0.94\n",
      " 0.94622938 0.95240969 0.96029113 0.9576147 ]\n",
      "\n",
      "Final Average AccuracY of the model: 0.95\n"
     ]
    }
   ],
   "source": [
    "from sklearn.neighbors import KNeighborsClassifier\n",
    "clf = KNeighborsClassifier(n_neighbors=4)\n",
    "\n",
    "print(clf)\n",
    "\n",
    "KNN=clf.fit(X_train,Y_train)\n",
    "prediction=KNN.predict(X_test)\n",
    "\n",
    "from sklearn import metrics\n",
    "print(metrics.classification_report(Y_test, prediction))\n",
    "print(metrics.confusion_matrix(Y_test, prediction))\n",
    "\n",
    "F1_Score=metrics.f1_score(Y_test, prediction, average='weighted')\n",
    "print('AccuracY of the model on Testing Sample Data:', round(F1_Score,2))\n",
    "\n",
    "from sklearn.model_selection import cross_val_score\n",
    "\n",
    "AccuracY_Values=cross_val_score(KNN, X , Y, cv=10, scoring='f1_weighted')\n",
    "print('\\nAccuracY values for 10-fold Cross Validation:\\n',AccuracY_Values)\n",
    "print('\\nFinal Average AccuracY of the model:', round(AccuracY_Values.mean(),2))"
   ]
  },
  {
   "cell_type": "markdown",
   "id": "2063c945",
   "metadata": {},
   "source": [
    "# SVM"
   ]
  },
  {
   "cell_type": "code",
   "execution_count": 130,
   "id": "f981ce17",
   "metadata": {},
   "outputs": [
    {
     "name": "stdout",
     "output_type": "stream",
     "text": [
      "SVC(C=20, gamma=0.01)\n",
      "              precision    recall  f1-score   support\n",
      "\n",
      "           0       0.81      0.97      0.88      2853\n",
      "           1       0.74      0.29      0.42       897\n",
      "\n",
      "    accuracy                           0.81      3750\n",
      "   macro avg       0.77      0.63      0.65      3750\n",
      "weighted avg       0.79      0.81      0.77      3750\n",
      "\n",
      "[[2759   94]\n",
      " [ 635  262]]\n",
      "AccuracY of the model on Testing Sample Data: 0.77\n",
      "\n",
      "AccuracY values for 10-fold Cross Validation:\n",
      " [0.84351337 0.80246531 0.8037837  0.80879893 0.80773316 0.81853109\n",
      " 0.82068363 0.8003842  0.82154305 0.81101905]\n",
      "\n",
      "Final Average AccuracY of the model: 0.81\n"
     ]
    }
   ],
   "source": [
    "from sklearn import svm\n",
    "clf = svm.SVC(C=20, kernel='rbf', gamma=0.01)\n",
    "\n",
    "print(clf)\n",
    "\n",
    "SVM=clf.fit(X_train,Y_train)\n",
    "prediction=SVM.predict(X_test)\n",
    "\n",
    "from sklearn import metrics\n",
    "print(metrics.classification_report(Y_test, prediction))\n",
    "print(metrics.confusion_matrix(Y_test, prediction))\n",
    "\n",
    "F1_Score=metrics.f1_score(Y_test, prediction, average='weighted')\n",
    "print('AccuracY of the model on Testing Sample Data:', round(F1_Score,2))\n",
    "\n",
    "from sklearn.model_selection import cross_val_score\n",
    "\n",
    "AccuracY_Values=cross_val_score(SVM, X , Y, cv=10, scoring='f1_weighted')\n",
    "print('\\nAccuracY values for 10-fold Cross Validation:\\n',AccuracY_Values)\n",
    "print('\\nFinal Average AccuracY of the model:', round(AccuracY_Values.mean(),2))"
   ]
  },
  {
   "cell_type": "markdown",
   "id": "e8c0ec8b",
   "metadata": {},
   "source": [
    "# Naive Bayes"
   ]
  },
  {
   "cell_type": "code",
   "execution_count": 132,
   "id": "8c71e693",
   "metadata": {},
   "outputs": [
    {
     "name": "stdout",
     "output_type": "stream",
     "text": [
      "Collecting sklearn\n",
      "  Downloading sklearn-0.0.post1.tar.gz (3.6 kB)\n",
      "Building wheels for collected packages: sklearn\n",
      "  Building wheel for sklearn (setup.py): started\n",
      "  Building wheel for sklearn (setup.py): finished with status 'done'\n",
      "  Created wheel for sklearn: filename=sklearn-0.0.post1-py3-none-any.whl size=2959 sha256=2efb9142d806cd7c7ae003c9e1a79017b634b9f0e7a90ab59a19dcd247a9c7ad\n",
      "  Stored in directory: c:\\users\\dipam\\appdata\\local\\pip\\cache\\wheels\\f8\\e0\\3d\\9d0c2020c44a519b9f02ab4fa6d2a4a996c98d79ab2f569fa1\n",
      "Successfully built sklearn\n",
      "Installing collected packages: sklearn\n",
      "Successfully installed sklearn-0.0.post1\n",
      "Note: you may need to restart the kernel to use updated packages.\n"
     ]
    }
   ],
   "source": [
    "#pip install sklearn"
   ]
  },
  {
   "cell_type": "code",
   "execution_count": 134,
   "id": "5a63cdfa",
   "metadata": {},
   "outputs": [
    {
     "name": "stdout",
     "output_type": "stream",
     "text": [
      "GaussianNB()\n",
      "              precision    recall  f1-score   support\n",
      "\n",
      "           0       0.93      0.60      0.73      2853\n",
      "           1       0.40      0.85      0.54       897\n",
      "\n",
      "    accuracy                           0.66      3750\n",
      "   macro avg       0.66      0.73      0.64      3750\n",
      "weighted avg       0.80      0.66      0.68      3750\n",
      "\n",
      "[[1713 1140]\n",
      " [ 134  763]]\n",
      "Accuracy of the model on Testing Sample Data: 0.68\n",
      "\n",
      "AccuracY values for 10-fold Cross Validation:\n",
      " [0.62934381 0.67379149 0.68087344 0.66887605 0.6553622  0.67664441\n",
      " 0.64566251 0.69745136 0.76003067 0.74198049]\n",
      "\n",
      "Final Average AccuracY of the model: 0.68\n"
     ]
    }
   ],
   "source": [
    "from sklearn.naive_bayes import GaussianNB, MultinomialNB\n",
    "\n",
    "# GaussianNB is used in Binomial Classification\n",
    "# MultinomialNB is used in multi-class classification\n",
    "clf = GaussianNB()\n",
    "#clf = MultinomialNB()\n",
    "\n",
    "print(clf)\n",
    "\n",
    "NB=clf.fit(X_train,Y_train)\n",
    "prediction=NB.predict(X_test)\n",
    "\n",
    "from sklearn import metrics\n",
    "print(metrics.classification_report(Y_test, prediction))\n",
    "print(metrics.confusion_matrix(Y_test, prediction))\n",
    "\n",
    "F1_Score=metrics.f1_score(Y_test, prediction, average='weighted')\n",
    "print('Accuracy of the model on Testing Sample Data:', round(F1_Score,2))\n",
    "\n",
    "from sklearn.model_selection import cross_val_score\n",
    "\n",
    "AccuracY_Values=cross_val_score(NB, X , Y, cv=10, scoring='f1_weighted')\n",
    "print('\\nAccuracY values for 10-fold Cross Validation:\\n',AccuracY_Values)\n",
    "print('\\nFinal Average AccuracY of the model:', round(AccuracY_Values.mean(),2))"
   ]
  },
  {
   "cell_type": "markdown",
   "id": "a34502f7",
   "metadata": {},
   "source": [
    "# Deployment of the Model"
   ]
  },
  {
   "cell_type": "markdown",
   "id": "096ad953",
   "metadata": {},
   "source": [
    "Choosing the best variables for model deployment"
   ]
  },
  {
   "cell_type": "code",
   "execution_count": 135,
   "id": "76e6cee1",
   "metadata": {},
   "outputs": [],
   "source": [
    "TargetVariable='left'\n",
    "Predictors=[ 'satisfaction_level','number_project', 'average_montly_hours', 'time_spend_company']"
   ]
  },
  {
   "cell_type": "code",
   "execution_count": 137,
   "id": "e751ac6f",
   "metadata": {},
   "outputs": [],
   "source": [
    "X=DataForML_Numeric[Predictors].values\n",
    "Y=DataForML_Numeric[TargetVariable].values"
   ]
  },
  {
   "cell_type": "code",
   "execution_count": 138,
   "id": "4580d5aa",
   "metadata": {},
   "outputs": [
    {
     "name": "stdout",
     "output_type": "stream",
     "text": [
      "(14999, 4)\n",
      "(14999,)\n"
     ]
    }
   ],
   "source": [
    "from sklearn.preprocessing import StandardScaler,MinMaxScaler\n",
    "PredictorScaler=MinMaxScaler()\n",
    "PredictorScalerFit=PredictorScaler.fit(X)\n",
    "X=PredictorScalerFit.transform(X)\n",
    "\n",
    "print(X.shape)\n",
    "print(Y.shape)"
   ]
  },
  {
   "cell_type": "code",
   "execution_count": 140,
   "id": "be0ef252",
   "metadata": {},
   "outputs": [],
   "source": [
    "from xgboost import XGBClassifier\n",
    "clf=XGBClassifier(max_depth=2, learning_rate=0.1, n_estimators=200, booster='gbtree')\n",
    "\n",
    "FinalXGBModel=clf.fit(X,Y)"
   ]
  },
  {
   "cell_type": "code",
   "execution_count": 141,
   "id": "c7d42231",
   "metadata": {},
   "outputs": [
    {
     "name": "stdout",
     "output_type": "stream",
     "text": [
      "\n",
      "Accuracy values for 10-fold Cross Validation:\n",
      " [0.97004286 0.96974487 0.96403452 0.96868172 0.96270246 0.96992695\n",
      " 0.96806109 0.96915129 0.97191801 0.97457556]\n",
      "\n",
      "Final Average Accuracy of the model: 0.97\n"
     ]
    }
   ],
   "source": [
    "from sklearn.model_selection import cross_val_score\n",
    "\n",
    "Accuracy_Values=cross_val_score(FinalXGBModel, X , Y, cv=10, scoring='f1_weighted')\n",
    "print('\\nAccuracy values for 10-fold Cross Validation:\\n',Accuracy_Values)\n",
    "print('\\nFinal Average Accuracy of the model:', round(Accuracy_Values.mean(),2))"
   ]
  },
  {
   "cell_type": "markdown",
   "id": "180c5341",
   "metadata": {},
   "source": [
    "As the accuracy of the training set & test set are almost similiar so there is no over fitting issue present."
   ]
  },
  {
   "cell_type": "code",
   "execution_count": 142,
   "id": "569c8305",
   "metadata": {},
   "outputs": [
    {
     "name": "stdout",
     "output_type": "stream",
     "text": [
      "pickle file of Predictive Model is saved at Location: C:\\Users\\dipam\n"
     ]
    }
   ],
   "source": [
    "import pickle\n",
    "import os\n",
    "with open('FinalXGBModel.pkl', 'wb') as fileWriteStream:\n",
    "    pickle.dump(FinalXGBModel, fileWriteStream)\n",
    "    fileWriteStream.close()\n",
    "    \n",
    "print('pickle file of Predictive Model is saved at Location:',os.getcwd())"
   ]
  },
  {
   "cell_type": "code",
   "execution_count": 157,
   "id": "ad3bf4a2",
   "metadata": {},
   "outputs": [],
   "source": [
    "def FunctionPredictResult(InputData):\n",
    "    import pandas as pd\n",
    "    Num_Inputs=InputData.shape[0]\n",
    "    \n",
    "    \n",
    "    DataForML=pd.read_pickle('DataForML.pkl')\n",
    "    InputData=InputData.append(DataForML)\n",
    "    \n",
    "    # Convert  ing the binary nominal variable sex to numeric\n",
    "    #InputData['left'].replace({0:'Yes':,1:'No'}, inplace=True)\n",
    "    \n",
    "    # Generating dummy variables for rest of the nominal variables\n",
    "    InputData=pd.get_dummies(InputData)\n",
    "            \n",
    "    # Maintaining the same order of columns as it was during the model training\n",
    "    Predictors=['satisfaction_level','number_project', 'average_montly_hours', 'time_spend_company']\n",
    "    \n",
    "    # Generating the input values to the model\n",
    "    X=InputData[Predictors].values[0:Num_Inputs]\n",
    "    \n",
    "    # Generating the standardized values of X since it was done while model training also\n",
    "    X=PredictorScalerFit.transform(X)\n",
    "    \n",
    "    # Loading the Function from pickle file\n",
    "    import pickle\n",
    "    with open('FinalXGBModel.pkl ', 'rb') as fileReadStream:\n",
    "        PredictionModel=pickle.load(fileReadStream)\n",
    "        # Don't forget to close the filestream!\n",
    "        fileReadStream.close()\n",
    "            \n",
    "    # Genrating Predictions\n",
    "    Prediction=PredictionModel.predict(X)\n",
    "    PredictionResult=pd.DataFrame(Prediction, columns=['Predicted Status of new data'])\n",
    "    return(PredictionResult)"
   ]
  },
  {
   "cell_type": "code",
   "execution_count": 158,
   "id": "bee8807e",
   "metadata": {},
   "outputs": [
    {
     "data": {
      "text/html": [
       "<div>\n",
       "<style scoped>\n",
       "    .dataframe tbody tr th:only-of-type {\n",
       "        vertical-align: middle;\n",
       "    }\n",
       "\n",
       "    .dataframe tbody tr th {\n",
       "        vertical-align: top;\n",
       "    }\n",
       "\n",
       "    .dataframe thead th {\n",
       "        text-align: right;\n",
       "    }\n",
       "</style>\n",
       "<table border=\"1\" class=\"dataframe\">\n",
       "  <thead>\n",
       "    <tr style=\"text-align: right;\">\n",
       "      <th></th>\n",
       "      <th>satisfaction_level</th>\n",
       "      <th>last_evaluation</th>\n",
       "      <th>number_project</th>\n",
       "      <th>average_montly_hours</th>\n",
       "      <th>time_spend_company</th>\n",
       "      <th>Work_accident</th>\n",
       "      <th>left</th>\n",
       "      <th>promotion_last_5years</th>\n",
       "      <th>Department</th>\n",
       "      <th>salary</th>\n",
       "    </tr>\n",
       "  </thead>\n",
       "  <tbody>\n",
       "    <tr>\n",
       "      <th>0</th>\n",
       "      <td>0.38</td>\n",
       "      <td>0.53</td>\n",
       "      <td>2</td>\n",
       "      <td>157</td>\n",
       "      <td>3</td>\n",
       "      <td>0</td>\n",
       "      <td>1</td>\n",
       "      <td>0</td>\n",
       "      <td>sales</td>\n",
       "      <td>low</td>\n",
       "    </tr>\n",
       "    <tr>\n",
       "      <th>1</th>\n",
       "      <td>0.80</td>\n",
       "      <td>0.86</td>\n",
       "      <td>5</td>\n",
       "      <td>262</td>\n",
       "      <td>6</td>\n",
       "      <td>0</td>\n",
       "      <td>1</td>\n",
       "      <td>0</td>\n",
       "      <td>sales</td>\n",
       "      <td>medium</td>\n",
       "    </tr>\n",
       "    <tr>\n",
       "      <th>2</th>\n",
       "      <td>0.11</td>\n",
       "      <td>0.88</td>\n",
       "      <td>7</td>\n",
       "      <td>272</td>\n",
       "      <td>4</td>\n",
       "      <td>0</td>\n",
       "      <td>1</td>\n",
       "      <td>0</td>\n",
       "      <td>sales</td>\n",
       "      <td>medium</td>\n",
       "    </tr>\n",
       "    <tr>\n",
       "      <th>3</th>\n",
       "      <td>0.72</td>\n",
       "      <td>0.87</td>\n",
       "      <td>5</td>\n",
       "      <td>223</td>\n",
       "      <td>5</td>\n",
       "      <td>0</td>\n",
       "      <td>1</td>\n",
       "      <td>0</td>\n",
       "      <td>sales</td>\n",
       "      <td>low</td>\n",
       "    </tr>\n",
       "    <tr>\n",
       "      <th>4</th>\n",
       "      <td>0.37</td>\n",
       "      <td>0.52</td>\n",
       "      <td>2</td>\n",
       "      <td>159</td>\n",
       "      <td>3</td>\n",
       "      <td>0</td>\n",
       "      <td>1</td>\n",
       "      <td>0</td>\n",
       "      <td>sales</td>\n",
       "      <td>low</td>\n",
       "    </tr>\n",
       "  </tbody>\n",
       "</table>\n",
       "</div>"
      ],
      "text/plain": [
       "   satisfaction_level  last_evaluation  number_project  average_montly_hours  \\\n",
       "0                0.38             0.53               2                   157   \n",
       "1                0.80             0.86               5                   262   \n",
       "2                0.11             0.88               7                   272   \n",
       "3                0.72             0.87               5                   223   \n",
       "4                0.37             0.52               2                   159   \n",
       "\n",
       "   time_spend_company  Work_accident  left  promotion_last_5years Department  \\\n",
       "0                   3              0     1                      0      sales   \n",
       "1                   6              0     1                      0      sales   \n",
       "2                   4              0     1                      0      sales   \n",
       "3                   5              0     1                      0      sales   \n",
       "4                   3              0     1                      0      sales   \n",
       "\n",
       "   salary  \n",
       "0     low  \n",
       "1  medium  \n",
       "2  medium  \n",
       "3     low  \n",
       "4     low  "
      ]
     },
     "execution_count": 158,
     "metadata": {},
     "output_type": "execute_result"
    }
   ],
   "source": [
    "hra.head()"
   ]
  },
  {
   "cell_type": "code",
   "execution_count": 159,
   "id": "64619efe",
   "metadata": {},
   "outputs": [
    {
     "name": "stdout",
     "output_type": "stream",
     "text": [
      "   satisfaction_level  number_project  average_montly_hours  \\\n",
      "0                0.56               5                   225   \n",
      "1                0.72               2                   170   \n",
      "\n",
      "   time_spend_company  \n",
      "0                   8  \n",
      "1                  12  \n"
     ]
    },
    {
     "data": {
      "text/html": [
       "<div>\n",
       "<style scoped>\n",
       "    .dataframe tbody tr th:only-of-type {\n",
       "        vertical-align: middle;\n",
       "    }\n",
       "\n",
       "    .dataframe tbody tr th {\n",
       "        vertical-align: top;\n",
       "    }\n",
       "\n",
       "    .dataframe thead th {\n",
       "        text-align: right;\n",
       "    }\n",
       "</style>\n",
       "<table border=\"1\" class=\"dataframe\">\n",
       "  <thead>\n",
       "    <tr style=\"text-align: right;\">\n",
       "      <th></th>\n",
       "      <th>Predicted Status of new data</th>\n",
       "    </tr>\n",
       "  </thead>\n",
       "  <tbody>\n",
       "    <tr>\n",
       "      <th>0</th>\n",
       "      <td>0</td>\n",
       "    </tr>\n",
       "    <tr>\n",
       "      <th>1</th>\n",
       "      <td>0</td>\n",
       "    </tr>\n",
       "  </tbody>\n",
       "</table>\n",
       "</div>"
      ],
      "text/plain": [
       "   Predicted Status of new data\n",
       "0                             0\n",
       "1                             0"
      ]
     },
     "execution_count": 159,
     "metadata": {},
     "output_type": "execute_result"
    }
   ],
   "source": [
    "NewSampleData=pd.DataFrame(\n",
    "data=[[0.56,5,225, 8],\n",
    "     [0.72,2,170,12]],\n",
    "    \n",
    "columns=['satisfaction_level','number_project', 'average_montly_hours', 'time_spend_company'])\n",
    "\n",
    "print(NewSampleData)\n",
    "\n",
    "FunctionPredictResult(InputData= NewSampleData)"
   ]
  },
  {
   "cell_type": "code",
   "execution_count": null,
   "id": "f084a12e",
   "metadata": {},
   "outputs": [],
   "source": []
  }
 ],
 "metadata": {
  "kernelspec": {
   "display_name": "Python 3 (ipykernel)",
   "language": "python",
   "name": "python3"
  },
  "language_info": {
   "codemirror_mode": {
    "name": "ipython",
    "version": 3
   },
   "file_extension": ".py",
   "mimetype": "text/x-python",
   "name": "python",
   "nbconvert_exporter": "python",
   "pygments_lexer": "ipython3",
   "version": "3.9.12"
  }
 },
 "nbformat": 4,
 "nbformat_minor": 5
}
